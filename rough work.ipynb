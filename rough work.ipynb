{
 "cells": [
  {
   "cell_type": "code",
   "execution_count": 5,
   "metadata": {},
   "outputs": [],
   "source": [
    "from bs4 import BeautifulSoup\n",
    "import requests\n",
    "import re\n",
    "import csv\n",
    "import pandas as pd\n",
    "import numpy as np\n",
    "import nltk\n",
    "import matplotlib.pyplot as plt\n",
    "import seaborn as sns\n",
    "import scipy as sp\n",
    "import math\n",
    "import urllib.request\n",
    "import time\n",
    "import datetime\n",
    "pd.set_option('display.max_colwidth',1000)\n",
    "pd.set_option('display.max_columns', None)"
   ]
  },
  {
   "cell_type": "code",
   "execution_count": 9,
   "metadata": {},
   "outputs": [],
   "source": [
    "from urllib.request import urlopen, Request"
   ]
  },
  {
   "cell_type": "code",
   "execution_count": 31,
   "metadata": {},
   "outputs": [],
   "source": [
    "#links=pd.read_csv(\"urllist.csv\")\n",
    "with open('urllist.csv', 'r') as f:\n",
    "    reader = csv.reader(f)\n",
    "    links = list(reader)"
   ]
  },
  {
   "cell_type": "code",
   "execution_count": 30,
   "metadata": {},
   "outputs": [
    {
     "data": {
      "text/plain": [
       "<map at 0x14df0ba8b00>"
      ]
     },
     "execution_count": 30,
     "metadata": {},
     "output_type": "execute_result"
    }
   ],
   "source": []
  },
  {
   "cell_type": "code",
   "execution_count": 17,
   "metadata": {},
   "outputs": [],
   "source": [
    "headers = {'User-Agent': 'Mozilla/5.0 (Windows NT 6.1) AppleWebKit/537.36 (KHTML, like Gecko) Chrome/41.0.2228.0 Safari/537.3',\n",
    "           'Accept': 'text/html,application/xhtml+xml,application/xml;q=0.9,*/*;q=0.8',\n",
    "           'Accept-Charset': 'ISO-8859-1,utf-8;q=0.7,*;q=0.3',\n",
    "           'Accept-Encoding': 'none',\n",
    "           'Accept-Language': 'en-US,en;q=0.8',\n",
    "           'Connection': 'keep-alive'}\n",
    "#header={'Accept': 'text/html,application/xhtml+xml,application/xml;q=0.9,*/*;q=0.8'}"
   ]
  },
  {
   "cell_type": "code",
   "execution_count": 37,
   "metadata": {},
   "outputs": [
    {
     "name": "stdout",
     "output_type": "stream",
     "text": [
      "0 \n",
      "\n",
      "CLEAN---- https://www.theguardian.com/business/2018/jun/19/capita-awarded-mod-contract-despite-having-highest-risk-rating\n",
      "1 \n",
      "\n",
      "Not allowed - ['https://en.wikipedia.org/wiki/Capita']\n",
      "2 \n",
      "\n",
      "CLEAN---- https://www.theguardian.com/business/2018/may/17/capita-put-nhs-england-patients-at-risk-says-watchdog\n",
      "3 \n",
      "\n",
      "CLEAN---- https://www.nao.org.uk/report/nhs-englands-management-of-the-primary-care-support-services-contract-with-capita/\n",
      "4 \n",
      "\n",
      "CLEAN---- http://directorsclub.news/2018/07/04/capita-secures-contract-extension-with-npower/\n",
      "5 \n",
      "\n",
      "Not allowed - ['https://kittysjones.wordpress.com/2018/07/05/barnet-capita-contractor-on-fraud-charge/']\n",
      "6 \n",
      "\n",
      "CLEAN---- https://ukcampaign4change.com/2018/05/17/nhs-englands-capita-contract-repeats-past-blunders/\n",
      "7 \n",
      "\n",
      "Not allowed - ['https://newshoundsnewsround.wordpress.com/2018/07/25/nhs-england-contract-with-capita-a-shambles-that-risked-serious-harm-to-patients/']\n",
      "8 \n",
      "\n",
      "Not allowed - ['https://en.wikipedia.org/wiki/Public%E2%80%93private_partnership']\n",
      "9 \n",
      "\n",
      "CLEAN---- https://www.payscale.com/research/IN/Employer=Capita_india/Salary\n",
      "10 \n",
      "\n",
      "Not allowed - ['https://www.glassdoor.com/Reviews/Capita-Reviews-E10883.htm']\n",
      "11 \n",
      "\n",
      "Not allowed - ['https://twitter.com/C2k_info']\n",
      "12 \n",
      "\n",
      "CLEAN---- https://www.bloomberg.com/research/stocks/private/snapshot.asp?privcapId=5491410\n",
      "13 \n",
      "\n",
      "CLEAN---- https://www.marketwatch.com/story/high-risk-capita-gets-new-military-contract-ft-2018-06-20\n",
      "14 \n",
      "\n",
      "CLEAN---- https://www.shropshirestar.com/news/uk-news/2018/05/17/capitas-nhs-contract-failures-had-potential-to-seriously-harm-patients--report/\n",
      "15 \n",
      "\n",
      "CLEAN---- http://www.pressreleasepoint.com/capita-awarded-contract-southern-water\n",
      "16 \n",
      "\n",
      "Not allowed - ['https://twitter.com/CapitaPlc']\n",
      "17 \n",
      "\n",
      "CLEAN---- http://www.pressreleasepoint.com/capita-awarded-six-year-contract-dfes-standards-and-testing-agency\n",
      "18 \n",
      "\n",
      "CLEAN---- https://seneddresearch.blog/2018/06/29/pfi-and-outsourcing-what-lessons-can-be-learnt-in-wales-from-recent-developments-with-carillion-and-capita/\n",
      "19 \n",
      "\n",
      "Not allowed - ['https://www.glassdoor.com/Reviews/Capita-Pune-Reviews-EI_IE10883.0', '6_IL.7', '11_IM1072.htm']\n",
      "20 \n",
      "\n",
      "CLEAN---- https://www.theguardian.com/business/2018/jun/19/capita-awarded-mod-contract-despite-having-highest-risk-rating\n",
      "21 \n",
      "\n",
      "Not allowed - ['https://www.facebook.com/notes/governor-larry-hogan/governor-larry-hogan-federal-government-sign-maryland-model-all-payer-contract/2041191672592254/']\n",
      "22 \n",
      "\n",
      "CLEAN---- https://www.theguardian.com/business/capitagroup\n",
      "23 \n",
      "\n",
      "Not allowed - ['https://twitter.com/Capita_MITS']\n",
      "24 \n",
      "\n",
      "Not allowed - ['https://twitter.com/CapitaPlc']\n",
      "25 \n",
      "\n",
      "Not allowed - ['https://www.youtube.com/watch?v=9zKfCMBitVA']\n",
      "26 \n",
      "\n",
      "CLEAN---- http://governor.maryland.gov/2018/07/09/governor-larry-hogan-federal-government-sign-maryland-model-all-payer-contract/\n",
      "27 \n",
      "\n",
      "CLEAN---- http://baltimoretimes-online.com/news/2018/aug/10/state-and-federal-government-sign-maryland-model-a/\n"
     ]
    },
    {
     "ename": "HTTPError",
     "evalue": "HTTP Error 404: NOT FOUND",
     "output_type": "error",
     "traceback": [
      "\u001b[1;31m---------------------------------------------------------------------------\u001b[0m",
      "\u001b[1;31mHTTPError\u001b[0m                                 Traceback (most recent call last)",
      "\u001b[1;32m<ipython-input-37-d29e22eb5ff8>\u001b[0m in \u001b[0;36m<module>\u001b[1;34m()\u001b[0m\n\u001b[0;32m     10\u001b[0m         \u001b[0mprint\u001b[0m\u001b[1;33m(\u001b[0m\u001b[1;34m\"CLEAN----\"\u001b[0m\u001b[1;33m,\u001b[0m\u001b[0mlink\u001b[0m\u001b[1;33m[\u001b[0m\u001b[1;36m0\u001b[0m\u001b[1;33m]\u001b[0m\u001b[1;33m)\u001b[0m\u001b[1;33m\u001b[0m\u001b[0m\n\u001b[0;32m     11\u001b[0m         \u001b[0mreq\u001b[0m \u001b[1;33m=\u001b[0m \u001b[0mRequest\u001b[0m\u001b[1;33m(\u001b[0m\u001b[0mlink\u001b[0m\u001b[1;33m[\u001b[0m\u001b[1;36m0\u001b[0m\u001b[1;33m]\u001b[0m\u001b[1;33m,\u001b[0m \u001b[0mheaders\u001b[0m\u001b[1;33m=\u001b[0m\u001b[0mheaders\u001b[0m\u001b[1;33m)\u001b[0m\u001b[1;33m\u001b[0m\u001b[0m\n\u001b[1;32m---> 12\u001b[1;33m         \u001b[1;32mwith\u001b[0m \u001b[0murllib\u001b[0m\u001b[1;33m.\u001b[0m\u001b[0mrequest\u001b[0m\u001b[1;33m.\u001b[0m\u001b[0murlopen\u001b[0m\u001b[1;33m(\u001b[0m\u001b[0mreq\u001b[0m\u001b[1;33m)\u001b[0m \u001b[1;32mas\u001b[0m \u001b[0mresponse\u001b[0m\u001b[1;33m:\u001b[0m\u001b[1;33m\u001b[0m\u001b[0m\n\u001b[0m\u001b[0;32m     13\u001b[0m             \u001b[0mpage\u001b[0m \u001b[1;33m=\u001b[0m \u001b[0mresponse\u001b[0m\u001b[1;33m.\u001b[0m\u001b[0mread\u001b[0m\u001b[1;33m(\u001b[0m\u001b[1;33m)\u001b[0m\u001b[1;33m\u001b[0m\u001b[0m\n\u001b[0;32m     14\u001b[0m         \u001b[0msoup\u001b[0m\u001b[1;33m=\u001b[0m\u001b[0mBeautifulSoup\u001b[0m\u001b[1;33m(\u001b[0m\u001b[0mpage\u001b[0m\u001b[1;33m,\u001b[0m \u001b[1;34m'html.parser'\u001b[0m\u001b[1;33m)\u001b[0m\u001b[1;33m\u001b[0m\u001b[0m\n",
      "\u001b[1;32mD:\\product\\Anaconda\\lib\\urllib\\request.py\u001b[0m in \u001b[0;36murlopen\u001b[1;34m(url, data, timeout, cafile, capath, cadefault, context)\u001b[0m\n\u001b[0;32m    221\u001b[0m     \u001b[1;32melse\u001b[0m\u001b[1;33m:\u001b[0m\u001b[1;33m\u001b[0m\u001b[0m\n\u001b[0;32m    222\u001b[0m         \u001b[0mopener\u001b[0m \u001b[1;33m=\u001b[0m \u001b[0m_opener\u001b[0m\u001b[1;33m\u001b[0m\u001b[0m\n\u001b[1;32m--> 223\u001b[1;33m     \u001b[1;32mreturn\u001b[0m \u001b[0mopener\u001b[0m\u001b[1;33m.\u001b[0m\u001b[0mopen\u001b[0m\u001b[1;33m(\u001b[0m\u001b[0murl\u001b[0m\u001b[1;33m,\u001b[0m \u001b[0mdata\u001b[0m\u001b[1;33m,\u001b[0m \u001b[0mtimeout\u001b[0m\u001b[1;33m)\u001b[0m\u001b[1;33m\u001b[0m\u001b[0m\n\u001b[0m\u001b[0;32m    224\u001b[0m \u001b[1;33m\u001b[0m\u001b[0m\n\u001b[0;32m    225\u001b[0m \u001b[1;32mdef\u001b[0m \u001b[0minstall_opener\u001b[0m\u001b[1;33m(\u001b[0m\u001b[0mopener\u001b[0m\u001b[1;33m)\u001b[0m\u001b[1;33m:\u001b[0m\u001b[1;33m\u001b[0m\u001b[0m\n",
      "\u001b[1;32mD:\\product\\Anaconda\\lib\\urllib\\request.py\u001b[0m in \u001b[0;36mopen\u001b[1;34m(self, fullurl, data, timeout)\u001b[0m\n\u001b[0;32m    530\u001b[0m         \u001b[1;32mfor\u001b[0m \u001b[0mprocessor\u001b[0m \u001b[1;32min\u001b[0m \u001b[0mself\u001b[0m\u001b[1;33m.\u001b[0m\u001b[0mprocess_response\u001b[0m\u001b[1;33m.\u001b[0m\u001b[0mget\u001b[0m\u001b[1;33m(\u001b[0m\u001b[0mprotocol\u001b[0m\u001b[1;33m,\u001b[0m \u001b[1;33m[\u001b[0m\u001b[1;33m]\u001b[0m\u001b[1;33m)\u001b[0m\u001b[1;33m:\u001b[0m\u001b[1;33m\u001b[0m\u001b[0m\n\u001b[0;32m    531\u001b[0m             \u001b[0mmeth\u001b[0m \u001b[1;33m=\u001b[0m \u001b[0mgetattr\u001b[0m\u001b[1;33m(\u001b[0m\u001b[0mprocessor\u001b[0m\u001b[1;33m,\u001b[0m \u001b[0mmeth_name\u001b[0m\u001b[1;33m)\u001b[0m\u001b[1;33m\u001b[0m\u001b[0m\n\u001b[1;32m--> 532\u001b[1;33m             \u001b[0mresponse\u001b[0m \u001b[1;33m=\u001b[0m \u001b[0mmeth\u001b[0m\u001b[1;33m(\u001b[0m\u001b[0mreq\u001b[0m\u001b[1;33m,\u001b[0m \u001b[0mresponse\u001b[0m\u001b[1;33m)\u001b[0m\u001b[1;33m\u001b[0m\u001b[0m\n\u001b[0m\u001b[0;32m    533\u001b[0m \u001b[1;33m\u001b[0m\u001b[0m\n\u001b[0;32m    534\u001b[0m         \u001b[1;32mreturn\u001b[0m \u001b[0mresponse\u001b[0m\u001b[1;33m\u001b[0m\u001b[0m\n",
      "\u001b[1;32mD:\\product\\Anaconda\\lib\\urllib\\request.py\u001b[0m in \u001b[0;36mhttp_response\u001b[1;34m(self, request, response)\u001b[0m\n\u001b[0;32m    640\u001b[0m         \u001b[1;32mif\u001b[0m \u001b[1;32mnot\u001b[0m \u001b[1;33m(\u001b[0m\u001b[1;36m200\u001b[0m \u001b[1;33m<=\u001b[0m \u001b[0mcode\u001b[0m \u001b[1;33m<\u001b[0m \u001b[1;36m300\u001b[0m\u001b[1;33m)\u001b[0m\u001b[1;33m:\u001b[0m\u001b[1;33m\u001b[0m\u001b[0m\n\u001b[0;32m    641\u001b[0m             response = self.parent.error(\n\u001b[1;32m--> 642\u001b[1;33m                 'http', request, response, code, msg, hdrs)\n\u001b[0m\u001b[0;32m    643\u001b[0m \u001b[1;33m\u001b[0m\u001b[0m\n\u001b[0;32m    644\u001b[0m         \u001b[1;32mreturn\u001b[0m \u001b[0mresponse\u001b[0m\u001b[1;33m\u001b[0m\u001b[0m\n",
      "\u001b[1;32mD:\\product\\Anaconda\\lib\\urllib\\request.py\u001b[0m in \u001b[0;36merror\u001b[1;34m(self, proto, *args)\u001b[0m\n\u001b[0;32m    568\u001b[0m         \u001b[1;32mif\u001b[0m \u001b[0mhttp_err\u001b[0m\u001b[1;33m:\u001b[0m\u001b[1;33m\u001b[0m\u001b[0m\n\u001b[0;32m    569\u001b[0m             \u001b[0margs\u001b[0m \u001b[1;33m=\u001b[0m \u001b[1;33m(\u001b[0m\u001b[0mdict\u001b[0m\u001b[1;33m,\u001b[0m \u001b[1;34m'default'\u001b[0m\u001b[1;33m,\u001b[0m \u001b[1;34m'http_error_default'\u001b[0m\u001b[1;33m)\u001b[0m \u001b[1;33m+\u001b[0m \u001b[0morig_args\u001b[0m\u001b[1;33m\u001b[0m\u001b[0m\n\u001b[1;32m--> 570\u001b[1;33m             \u001b[1;32mreturn\u001b[0m \u001b[0mself\u001b[0m\u001b[1;33m.\u001b[0m\u001b[0m_call_chain\u001b[0m\u001b[1;33m(\u001b[0m\u001b[1;33m*\u001b[0m\u001b[0margs\u001b[0m\u001b[1;33m)\u001b[0m\u001b[1;33m\u001b[0m\u001b[0m\n\u001b[0m\u001b[0;32m    571\u001b[0m \u001b[1;33m\u001b[0m\u001b[0m\n\u001b[0;32m    572\u001b[0m \u001b[1;31m# XXX probably also want an abstract factory that knows when it makes\u001b[0m\u001b[1;33m\u001b[0m\u001b[1;33m\u001b[0m\u001b[0m\n",
      "\u001b[1;32mD:\\product\\Anaconda\\lib\\urllib\\request.py\u001b[0m in \u001b[0;36m_call_chain\u001b[1;34m(self, chain, kind, meth_name, *args)\u001b[0m\n\u001b[0;32m    502\u001b[0m         \u001b[1;32mfor\u001b[0m \u001b[0mhandler\u001b[0m \u001b[1;32min\u001b[0m \u001b[0mhandlers\u001b[0m\u001b[1;33m:\u001b[0m\u001b[1;33m\u001b[0m\u001b[0m\n\u001b[0;32m    503\u001b[0m             \u001b[0mfunc\u001b[0m \u001b[1;33m=\u001b[0m \u001b[0mgetattr\u001b[0m\u001b[1;33m(\u001b[0m\u001b[0mhandler\u001b[0m\u001b[1;33m,\u001b[0m \u001b[0mmeth_name\u001b[0m\u001b[1;33m)\u001b[0m\u001b[1;33m\u001b[0m\u001b[0m\n\u001b[1;32m--> 504\u001b[1;33m             \u001b[0mresult\u001b[0m \u001b[1;33m=\u001b[0m \u001b[0mfunc\u001b[0m\u001b[1;33m(\u001b[0m\u001b[1;33m*\u001b[0m\u001b[0margs\u001b[0m\u001b[1;33m)\u001b[0m\u001b[1;33m\u001b[0m\u001b[0m\n\u001b[0m\u001b[0;32m    505\u001b[0m             \u001b[1;32mif\u001b[0m \u001b[0mresult\u001b[0m \u001b[1;32mis\u001b[0m \u001b[1;32mnot\u001b[0m \u001b[1;32mNone\u001b[0m\u001b[1;33m:\u001b[0m\u001b[1;33m\u001b[0m\u001b[0m\n\u001b[0;32m    506\u001b[0m                 \u001b[1;32mreturn\u001b[0m \u001b[0mresult\u001b[0m\u001b[1;33m\u001b[0m\u001b[0m\n",
      "\u001b[1;32mD:\\product\\Anaconda\\lib\\urllib\\request.py\u001b[0m in \u001b[0;36mhttp_error_default\u001b[1;34m(self, req, fp, code, msg, hdrs)\u001b[0m\n\u001b[0;32m    648\u001b[0m \u001b[1;32mclass\u001b[0m \u001b[0mHTTPDefaultErrorHandler\u001b[0m\u001b[1;33m(\u001b[0m\u001b[0mBaseHandler\u001b[0m\u001b[1;33m)\u001b[0m\u001b[1;33m:\u001b[0m\u001b[1;33m\u001b[0m\u001b[0m\n\u001b[0;32m    649\u001b[0m     \u001b[1;32mdef\u001b[0m \u001b[0mhttp_error_default\u001b[0m\u001b[1;33m(\u001b[0m\u001b[0mself\u001b[0m\u001b[1;33m,\u001b[0m \u001b[0mreq\u001b[0m\u001b[1;33m,\u001b[0m \u001b[0mfp\u001b[0m\u001b[1;33m,\u001b[0m \u001b[0mcode\u001b[0m\u001b[1;33m,\u001b[0m \u001b[0mmsg\u001b[0m\u001b[1;33m,\u001b[0m \u001b[0mhdrs\u001b[0m\u001b[1;33m)\u001b[0m\u001b[1;33m:\u001b[0m\u001b[1;33m\u001b[0m\u001b[0m\n\u001b[1;32m--> 650\u001b[1;33m         \u001b[1;32mraise\u001b[0m \u001b[0mHTTPError\u001b[0m\u001b[1;33m(\u001b[0m\u001b[0mreq\u001b[0m\u001b[1;33m.\u001b[0m\u001b[0mfull_url\u001b[0m\u001b[1;33m,\u001b[0m \u001b[0mcode\u001b[0m\u001b[1;33m,\u001b[0m \u001b[0mmsg\u001b[0m\u001b[1;33m,\u001b[0m \u001b[0mhdrs\u001b[0m\u001b[1;33m,\u001b[0m \u001b[0mfp\u001b[0m\u001b[1;33m)\u001b[0m\u001b[1;33m\u001b[0m\u001b[0m\n\u001b[0m\u001b[0;32m    651\u001b[0m \u001b[1;33m\u001b[0m\u001b[0m\n\u001b[0;32m    652\u001b[0m \u001b[1;32mclass\u001b[0m \u001b[0mHTTPRedirectHandler\u001b[0m\u001b[1;33m(\u001b[0m\u001b[0mBaseHandler\u001b[0m\u001b[1;33m)\u001b[0m\u001b[1;33m:\u001b[0m\u001b[1;33m\u001b[0m\u001b[0m\n",
      "\u001b[1;31mHTTPError\u001b[0m: HTTP Error 404: NOT FOUND"
     ]
    }
   ],
   "source": [
    "arcl=[]\n",
    "a=0\n",
    "exclude=['twitter','glassdoor','youtube','wordpress','facebook','wikipedia']\n",
    "for link in links:\n",
    "    print(a,\"\\n\")\n",
    "    \n",
    "    if any (s in link[0] for s in exclude):\n",
    "        print(\"Not allowed -\",link)\n",
    "    else:\n",
    "        print(\"CLEAN----\",link[0])\n",
    "        req = Request(link[0], headers=headers)\n",
    "        with urllib.request.urlopen(req) as response:\n",
    "            page = response.read()\n",
    "        soup=BeautifulSoup(page, 'html.parser')\n",
    "        ptag=soup.find_all('p')\n",
    "        text=[]\n",
    "        for tag in ptag:\n",
    "            text.append(tag.get_text())\n",
    "            texta=str(' '.join(text)).replace('\\n',' ')\n",
    "        arcl.append(texta)\n",
    "            \n",
    "    a+=1"
   ]
  },
  {
   "cell_type": "code",
   "execution_count": 42,
   "metadata": {},
   "outputs": [],
   "source": [
    "start_time_main = time.time()"
   ]
  },
  {
   "cell_type": "code",
   "execution_count": 45,
   "metadata": {},
   "outputs": [],
   "source": [
    "localtime = time.asctime( time.localtime(time.time()) )"
   ]
  },
  {
   "cell_type": "code",
   "execution_count": 46,
   "metadata": {},
   "outputs": [
    {
     "data": {
      "text/plain": [
       "'Tue Aug 21 12:00:05 2018'"
      ]
     },
     "execution_count": 46,
     "metadata": {},
     "output_type": "execute_result"
    }
   ],
   "source": [
    "localtime"
   ]
  },
  {
   "cell_type": "code",
   "execution_count": 60,
   "metadata": {},
   "outputs": [],
   "source": [
    "now = datetime.datetime.now().strftime('%H:%M:%S')"
   ]
  },
  {
   "cell_type": "code",
   "execution_count": 51,
   "metadata": {},
   "outputs": [
    {
     "data": {
      "text/plain": [
       "'2018-08-21 12:01:40.066049'"
      ]
     },
     "execution_count": 51,
     "metadata": {},
     "output_type": "execute_result"
    }
   ],
   "source": [
    "str(now)"
   ]
  },
  {
   "cell_type": "code",
   "execution_count": 55,
   "metadata": {},
   "outputs": [
    {
     "data": {
      "text/plain": [
       "'12:01:40'"
      ]
     },
     "execution_count": 55,
     "metadata": {},
     "output_type": "execute_result"
    }
   ],
   "source": [
    "now.strftime('%H:%M:%S')"
   ]
  },
  {
   "cell_type": "code",
   "execution_count": 57,
   "metadata": {},
   "outputs": [
    {
     "data": {
      "text/plain": [
       "<function datetime.strftime>"
      ]
     },
     "execution_count": 57,
     "metadata": {},
     "output_type": "execute_result"
    }
   ],
   "source": [
    "now.strftime"
   ]
  },
  {
   "cell_type": "code",
   "execution_count": 67,
   "metadata": {},
   "outputs": [
    {
     "ename": "ValueError",
     "evalue": "could not convert string to float: '12:13:40'",
     "output_type": "error",
     "traceback": [
      "\u001b[1;31m---------------------------------------------------------------------------\u001b[0m",
      "\u001b[1;31mValueError\u001b[0m                                Traceback (most recent call last)",
      "\u001b[1;32m<ipython-input-67-60d4c9131553>\u001b[0m in \u001b[0;36m<module>\u001b[1;34m()\u001b[0m\n\u001b[1;32m----> 1\u001b[1;33m \u001b[0mfloat\u001b[0m\u001b[1;33m(\u001b[0m\u001b[0mdatetime\u001b[0m\u001b[1;33m.\u001b[0m\u001b[0mdatetime\u001b[0m\u001b[1;33m.\u001b[0m\u001b[0mnow\u001b[0m\u001b[1;33m(\u001b[0m\u001b[1;33m)\u001b[0m\u001b[1;33m.\u001b[0m\u001b[0mstrftime\u001b[0m\u001b[1;33m(\u001b[0m\u001b[1;34m'%H:%M:%S'\u001b[0m\u001b[1;33m)\u001b[0m\u001b[1;33m)\u001b[0m\u001b[1;33m\u001b[0m\u001b[0m\n\u001b[0m",
      "\u001b[1;31mValueError\u001b[0m: could not convert string to float: '12:13:40'"
     ]
    }
   ],
   "source": [
    "float(datetime.datetime.now().strftime('%H:%M:%S'))"
   ]
  },
  {
   "cell_type": "code",
   "execution_count": 64,
   "metadata": {},
   "outputs": [
    {
     "ename": "TypeError",
     "evalue": "'module' object is not callable",
     "output_type": "error",
     "traceback": [
      "\u001b[1;31m---------------------------------------------------------------------------\u001b[0m",
      "\u001b[1;31mTypeError\u001b[0m                                 Traceback (most recent call last)",
      "\u001b[1;32m<ipython-input-64-eef6abd72144>\u001b[0m in \u001b[0;36m<module>\u001b[1;34m()\u001b[0m\n\u001b[1;32m----> 1\u001b[1;33m \u001b[0mdatetime\u001b[0m\u001b[1;33m(\u001b[0m\u001b[0mnow\u001b[0m\u001b[1;33m)\u001b[0m\u001b[1;33m\u001b[0m\u001b[0m\n\u001b[0m",
      "\u001b[1;31mTypeError\u001b[0m: 'module' object is not callable"
     ]
    }
   ],
   "source": [
    "datetime(now)"
   ]
  },
  {
   "cell_type": "code",
   "execution_count": 75,
   "metadata": {},
   "outputs": [],
   "source": [
    "link=\"https://www.usnews.com/news/sports/articles/2018-07-09/royals-sign-16-year-old-japanese-pitcher-out-of-junior-high\""
   ]
  },
  {
   "cell_type": "code",
   "execution_count": 76,
   "metadata": {},
   "outputs": [],
   "source": [
    "req = Request(link, headers=headers)"
   ]
  },
  {
   "cell_type": "code",
   "execution_count": null,
   "metadata": {},
   "outputs": [],
   "source": [
    "with urllib.request.urlopen(req) as response:\n",
    "            page = response.read()"
   ]
  },
  {
   "cell_type": "markdown",
   "metadata": {},
   "source": [
    "# reading and refining excel"
   ]
  },
  {
   "cell_type": "code",
   "execution_count": 3,
   "metadata": {},
   "outputs": [],
   "source": [
    "a=pd.read_excel(\"./data/Technology & Innovation.xlsx\")"
   ]
  },
  {
   "cell_type": "code",
   "execution_count": 4,
   "metadata": {},
   "outputs": [
    {
     "data": {
      "text/html": [
       "<div>\n",
       "<style scoped>\n",
       "    .dataframe tbody tr th:only-of-type {\n",
       "        vertical-align: middle;\n",
       "    }\n",
       "\n",
       "    .dataframe tbody tr th {\n",
       "        vertical-align: top;\n",
       "    }\n",
       "\n",
       "    .dataframe thead th {\n",
       "        text-align: right;\n",
       "    }\n",
       "</style>\n",
       "<table border=\"1\" class=\"dataframe\">\n",
       "  <thead>\n",
       "    <tr style=\"text-align: right;\">\n",
       "      <th></th>\n",
       "      <th>Start time</th>\n",
       "      <th>Completion time</th>\n",
       "      <th>Email</th>\n",
       "      <th>Name</th>\n",
       "      <th>Corporate Function</th>\n",
       "      <th>How are we performing?</th>\n",
       "      <th>How is our speed of response to your requests?</th>\n",
       "      <th>How well did we respond to feedback?</th>\n",
       "      <th>Did we go beyond expectations or do anything innovative in the period?</th>\n",
       "      <th>Have you spotted any exceptional behavior from the Corporate Function?</th>\n",
       "      <th>Key areas you would like us to improve upon:</th>\n",
       "    </tr>\n",
       "  </thead>\n",
       "  <tbody>\n",
       "    <tr>\n",
       "      <th>0</th>\n",
       "      <td>2018-05-15 17:13:33</td>\n",
       "      <td>2018-05-15 17:14:21</td>\n",
       "      <td>chandrakantd@mastek.com</td>\n",
       "      <td>Chandrakant Deshmukh</td>\n",
       "      <td>Technology &amp; Innovation</td>\n",
       "      <td>Delighted</td>\n",
       "      <td>Satisfied</td>\n",
       "      <td>Satisfied</td>\n",
       "      <td>Yes,</td>\n",
       "      <td>amazing team is in place...</td>\n",
       "      <td>communication at org level...</td>\n",
       "    </tr>\n",
       "    <tr>\n",
       "      <th>1</th>\n",
       "      <td>2018-05-17 12:38:26</td>\n",
       "      <td>2018-05-17 12:39:30</td>\n",
       "      <td>Sumit12709@Mastek.com</td>\n",
       "      <td>Sumit Shukla</td>\n",
       "      <td>Technology &amp; Innovation</td>\n",
       "      <td>Room for Improvement</td>\n",
       "      <td>Satisfied</td>\n",
       "      <td>Satisfied</td>\n",
       "      <td>NaN</td>\n",
       "      <td>NaN</td>\n",
       "      <td>NaN</td>\n",
       "    </tr>\n",
       "    <tr>\n",
       "      <th>2</th>\n",
       "      <td>2018-05-17 16:14:29</td>\n",
       "      <td>2018-05-17 16:20:27</td>\n",
       "      <td>ektad@mastek.com</td>\n",
       "      <td>Ekta Date</td>\n",
       "      <td>Technology &amp; Innovation</td>\n",
       "      <td>Room for Improvement</td>\n",
       "      <td>Room for Improvement</td>\n",
       "      <td>Not Applicable</td>\n",
       "      <td>NaN</td>\n",
       "      <td>NaN</td>\n",
       "      <td>Innovations team do not share work across mast...</td>\n",
       "    </tr>\n",
       "    <tr>\n",
       "      <th>3</th>\n",
       "      <td>2018-05-18 10:09:13</td>\n",
       "      <td>2018-05-18 10:12:28</td>\n",
       "      <td>rasikap@mastek.com</td>\n",
       "      <td>Rasika Patil</td>\n",
       "      <td>Technology &amp; Innovation</td>\n",
       "      <td>Room for Improvement</td>\n",
       "      <td>Room for Improvement</td>\n",
       "      <td>Not Applicable</td>\n",
       "      <td>NaN</td>\n",
       "      <td>NaN</td>\n",
       "      <td>1. Honestly I even don't know what this corp f...</td>\n",
       "    </tr>\n",
       "    <tr>\n",
       "      <th>4</th>\n",
       "      <td>2018-05-21 18:26:18</td>\n",
       "      <td>2018-05-21 18:28:51</td>\n",
       "      <td>preethii@mastek.com</td>\n",
       "      <td>Preethi Iyer</td>\n",
       "      <td>Technology &amp; Innovation</td>\n",
       "      <td>Satisfied</td>\n",
       "      <td>Satisfied</td>\n",
       "      <td>Satisfied</td>\n",
       "      <td>NaN</td>\n",
       "      <td>NaN</td>\n",
       "      <td>Is every Mastekeer aware of Tech &amp; Innovation?...</td>\n",
       "    </tr>\n",
       "    <tr>\n",
       "      <th>5</th>\n",
       "      <td>2018-05-22 16:52:13</td>\n",
       "      <td>2018-05-22 16:53:10</td>\n",
       "      <td>prachi13532@Mastek.com</td>\n",
       "      <td>Prachi Desai</td>\n",
       "      <td>Technology &amp; Innovation</td>\n",
       "      <td>Satisfied</td>\n",
       "      <td>Room for Improvement</td>\n",
       "      <td>Room for Improvement</td>\n",
       "      <td>NaN</td>\n",
       "      <td>NaN</td>\n",
       "      <td>NaN</td>\n",
       "    </tr>\n",
       "    <tr>\n",
       "      <th>6</th>\n",
       "      <td>2018-05-22 17:57:08</td>\n",
       "      <td>2018-05-22 17:58:43</td>\n",
       "      <td>rahul13507@Mastek.com</td>\n",
       "      <td>Rahul Shinde</td>\n",
       "      <td>Technology &amp; Innovation</td>\n",
       "      <td>Delighted</td>\n",
       "      <td>Delighted</td>\n",
       "      <td>Delighted</td>\n",
       "      <td>For Tekathon get help for execution of probble...</td>\n",
       "      <td>NaN</td>\n",
       "      <td>NaN</td>\n",
       "    </tr>\n",
       "    <tr>\n",
       "      <th>7</th>\n",
       "      <td>2018-05-22 18:36:59</td>\n",
       "      <td>2018-05-22 18:42:37</td>\n",
       "      <td>vijendr13545@Mastek.com</td>\n",
       "      <td>Vijendra Kurmi</td>\n",
       "      <td>Technology &amp; Innovation</td>\n",
       "      <td>Satisfied</td>\n",
       "      <td>Room for Improvement</td>\n",
       "      <td>Satisfied</td>\n",
       "      <td>Hack-a-thon was well organized and executed.</td>\n",
       "      <td>NaN</td>\n",
       "      <td>We need to provide more opportunities/events w...</td>\n",
       "    </tr>\n",
       "    <tr>\n",
       "      <th>8</th>\n",
       "      <td>2018-05-23 12:03:31</td>\n",
       "      <td>2018-05-23 12:03:39</td>\n",
       "      <td>Sunilku13973@Mastek.Com</td>\n",
       "      <td>Sunilkumar Yadav</td>\n",
       "      <td>Technology &amp; Innovation</td>\n",
       "      <td>Satisfied</td>\n",
       "      <td>Satisfied</td>\n",
       "      <td>Satisfied</td>\n",
       "      <td>NaN</td>\n",
       "      <td>NaN</td>\n",
       "      <td>NaN</td>\n",
       "    </tr>\n",
       "    <tr>\n",
       "      <th>9</th>\n",
       "      <td>2018-05-24 23:19:00</td>\n",
       "      <td>2018-05-24 23:27:56</td>\n",
       "      <td>Balasub86097@Mastek.Com</td>\n",
       "      <td>Balasubramaniam Palanisamy</td>\n",
       "      <td>Technology &amp; Innovation</td>\n",
       "      <td>Delighted</td>\n",
       "      <td>Delighted</td>\n",
       "      <td>Delighted</td>\n",
       "      <td>Please add new areas in big data, Machine Lear...</td>\n",
       "      <td>This training session having more interactive ...</td>\n",
       "      <td>Please add more or similar or analytics/big da...</td>\n",
       "    </tr>\n",
       "    <tr>\n",
       "      <th>10</th>\n",
       "      <td>2018-05-25 08:49:25</td>\n",
       "      <td>2018-05-25 08:49:35</td>\n",
       "      <td>Abhishe13758@Mastek.Com</td>\n",
       "      <td>Abhishek Zende</td>\n",
       "      <td>Technology &amp; Innovation</td>\n",
       "      <td>Satisfied</td>\n",
       "      <td>Satisfied</td>\n",
       "      <td>Satisfied</td>\n",
       "      <td>NaN</td>\n",
       "      <td>NaN</td>\n",
       "      <td>NaN</td>\n",
       "    </tr>\n",
       "    <tr>\n",
       "      <th>11</th>\n",
       "      <td>2018-05-25 09:56:09</td>\n",
       "      <td>2018-05-25 09:56:37</td>\n",
       "      <td>Chetan13433@Mastek.com</td>\n",
       "      <td>Chetan Patil</td>\n",
       "      <td>Technology &amp; Innovation</td>\n",
       "      <td>Satisfied</td>\n",
       "      <td>Satisfied</td>\n",
       "      <td>Satisfied</td>\n",
       "      <td>NaN</td>\n",
       "      <td>NaN</td>\n",
       "      <td>NaN</td>\n",
       "    </tr>\n",
       "    <tr>\n",
       "      <th>12</th>\n",
       "      <td>2018-05-25 13:49:54</td>\n",
       "      <td>2018-05-25 13:50:36</td>\n",
       "      <td>Arnab14151@Mastek.Com</td>\n",
       "      <td>Arnab Dutta</td>\n",
       "      <td>Technology &amp; Innovation</td>\n",
       "      <td>Satisfied</td>\n",
       "      <td>Delighted</td>\n",
       "      <td>Satisfied</td>\n",
       "      <td>NaN</td>\n",
       "      <td>NaN</td>\n",
       "      <td>NaN</td>\n",
       "    </tr>\n",
       "    <tr>\n",
       "      <th>13</th>\n",
       "      <td>2018-05-25 14:03:21</td>\n",
       "      <td>2018-05-25 14:05:22</td>\n",
       "      <td>Sanjay14053@Mastek.Com</td>\n",
       "      <td>Sanjay Talreja</td>\n",
       "      <td>Technology &amp; Innovation</td>\n",
       "      <td>Satisfied</td>\n",
       "      <td>Dissatisfied</td>\n",
       "      <td>Room for Improvement</td>\n",
       "      <td>Nope.Ways need to improve innovation and elimi...</td>\n",
       "      <td>No</td>\n",
       "      <td>Technology adoption,Infra ,Canteen food quality</td>\n",
       "    </tr>\n",
       "    <tr>\n",
       "      <th>14</th>\n",
       "      <td>2018-05-25 15:46:31</td>\n",
       "      <td>2018-05-25 15:51:14</td>\n",
       "      <td>Vaibhav14002@Mastek.Com</td>\n",
       "      <td>Vaibhav Pakhare</td>\n",
       "      <td>Technology &amp; Innovation</td>\n",
       "      <td>Satisfied</td>\n",
       "      <td>Satisfied</td>\n",
       "      <td>Satisfied</td>\n",
       "      <td>not yet. need to get the projects onborad so t...</td>\n",
       "      <td>No</td>\n",
       "      <td>Marketing &amp; HR</td>\n",
       "    </tr>\n",
       "    <tr>\n",
       "      <th>15</th>\n",
       "      <td>2018-05-25 15:52:08</td>\n",
       "      <td>2018-05-25 15:54:44</td>\n",
       "      <td>Satishk13717@Mastek.Com</td>\n",
       "      <td>Satishkumar Yadav</td>\n",
       "      <td>Technology &amp; Innovation</td>\n",
       "      <td>Satisfied</td>\n",
       "      <td>Satisfied</td>\n",
       "      <td>Satisfied</td>\n",
       "      <td>Yes.</td>\n",
       "      <td>Yes.</td>\n",
       "      <td>No.</td>\n",
       "    </tr>\n",
       "  </tbody>\n",
       "</table>\n",
       "</div>"
      ],
      "text/plain": [
       "            Start time     Completion time                    Email  \\\n",
       "0  2018-05-15 17:13:33 2018-05-15 17:14:21  chandrakantd@mastek.com   \n",
       "1  2018-05-17 12:38:26 2018-05-17 12:39:30    Sumit12709@Mastek.com   \n",
       "2  2018-05-17 16:14:29 2018-05-17 16:20:27         ektad@mastek.com   \n",
       "3  2018-05-18 10:09:13 2018-05-18 10:12:28       rasikap@mastek.com   \n",
       "4  2018-05-21 18:26:18 2018-05-21 18:28:51      preethii@mastek.com   \n",
       "5  2018-05-22 16:52:13 2018-05-22 16:53:10   prachi13532@Mastek.com   \n",
       "6  2018-05-22 17:57:08 2018-05-22 17:58:43    rahul13507@Mastek.com   \n",
       "7  2018-05-22 18:36:59 2018-05-22 18:42:37  vijendr13545@Mastek.com   \n",
       "8  2018-05-23 12:03:31 2018-05-23 12:03:39  Sunilku13973@Mastek.Com   \n",
       "9  2018-05-24 23:19:00 2018-05-24 23:27:56  Balasub86097@Mastek.Com   \n",
       "10 2018-05-25 08:49:25 2018-05-25 08:49:35  Abhishe13758@Mastek.Com   \n",
       "11 2018-05-25 09:56:09 2018-05-25 09:56:37   Chetan13433@Mastek.com   \n",
       "12 2018-05-25 13:49:54 2018-05-25 13:50:36    Arnab14151@Mastek.Com   \n",
       "13 2018-05-25 14:03:21 2018-05-25 14:05:22   Sanjay14053@Mastek.Com   \n",
       "14 2018-05-25 15:46:31 2018-05-25 15:51:14  Vaibhav14002@Mastek.Com   \n",
       "15 2018-05-25 15:52:08 2018-05-25 15:54:44  Satishk13717@Mastek.Com   \n",
       "\n",
       "                          Name       Corporate Function  \\\n",
       "0         Chandrakant Deshmukh  Technology & Innovation   \n",
       "1                 Sumit Shukla  Technology & Innovation   \n",
       "2                    Ekta Date  Technology & Innovation   \n",
       "3                 Rasika Patil  Technology & Innovation   \n",
       "4                 Preethi Iyer  Technology & Innovation   \n",
       "5                 Prachi Desai  Technology & Innovation   \n",
       "6                 Rahul Shinde  Technology & Innovation   \n",
       "7               Vijendra Kurmi  Technology & Innovation   \n",
       "8             Sunilkumar Yadav  Technology & Innovation   \n",
       "9   Balasubramaniam Palanisamy  Technology & Innovation   \n",
       "10              Abhishek Zende  Technology & Innovation   \n",
       "11                Chetan Patil  Technology & Innovation   \n",
       "12                 Arnab Dutta  Technology & Innovation   \n",
       "13              Sanjay Talreja  Technology & Innovation   \n",
       "14             Vaibhav Pakhare  Technology & Innovation   \n",
       "15           Satishkumar Yadav  Technology & Innovation   \n",
       "\n",
       "   How are we performing? How is our speed of response to your requests?  \\\n",
       "0               Delighted                                      Satisfied   \n",
       "1    Room for Improvement                                      Satisfied   \n",
       "2    Room for Improvement                           Room for Improvement   \n",
       "3    Room for Improvement                           Room for Improvement   \n",
       "4               Satisfied                                      Satisfied   \n",
       "5               Satisfied                           Room for Improvement   \n",
       "6               Delighted                                      Delighted   \n",
       "7               Satisfied                           Room for Improvement   \n",
       "8               Satisfied                                      Satisfied   \n",
       "9               Delighted                                      Delighted   \n",
       "10              Satisfied                                      Satisfied   \n",
       "11              Satisfied                                      Satisfied   \n",
       "12              Satisfied                                      Delighted   \n",
       "13              Satisfied                                   Dissatisfied   \n",
       "14              Satisfied                                      Satisfied   \n",
       "15              Satisfied                                      Satisfied   \n",
       "\n",
       "   How well did we respond to feedback?  \\\n",
       "0                             Satisfied   \n",
       "1                             Satisfied   \n",
       "2                        Not Applicable   \n",
       "3                        Not Applicable   \n",
       "4                             Satisfied   \n",
       "5                  Room for Improvement   \n",
       "6                             Delighted   \n",
       "7                             Satisfied   \n",
       "8                             Satisfied   \n",
       "9                             Delighted   \n",
       "10                            Satisfied   \n",
       "11                            Satisfied   \n",
       "12                            Satisfied   \n",
       "13                 Room for Improvement   \n",
       "14                            Satisfied   \n",
       "15                            Satisfied   \n",
       "\n",
       "   Did we go beyond expectations or do anything innovative in the period?  \\\n",
       "0                                               Yes,                        \n",
       "1                                                 NaN                       \n",
       "2                                                 NaN                       \n",
       "3                                                 NaN                       \n",
       "4                                                 NaN                       \n",
       "5                                                 NaN                       \n",
       "6   For Tekathon get help for execution of probble...                       \n",
       "7        Hack-a-thon was well organized and executed.                       \n",
       "8                                                 NaN                       \n",
       "9   Please add new areas in big data, Machine Lear...                       \n",
       "10                                                NaN                       \n",
       "11                                                NaN                       \n",
       "12                                                NaN                       \n",
       "13  Nope.Ways need to improve innovation and elimi...                       \n",
       "14  not yet. need to get the projects onborad so t...                       \n",
       "15                                               Yes.                       \n",
       "\n",
       "   Have you spotted any exceptional behavior from the Corporate Function?  \\\n",
       "0                         amazing team is in place...                       \n",
       "1                                                 NaN                       \n",
       "2                                                 NaN                       \n",
       "3                                                 NaN                       \n",
       "4                                                 NaN                       \n",
       "5                                                 NaN                       \n",
       "6                                                 NaN                       \n",
       "7                                                 NaN                       \n",
       "8                                                 NaN                       \n",
       "9   This training session having more interactive ...                       \n",
       "10                                                NaN                       \n",
       "11                                                NaN                       \n",
       "12                                                NaN                       \n",
       "13                                                 No                       \n",
       "14                                                 No                       \n",
       "15                                               Yes.                       \n",
       "\n",
       "         Key areas you would like us to improve upon:  \n",
       "0                       communication at org level...  \n",
       "1                                                 NaN  \n",
       "2   Innovations team do not share work across mast...  \n",
       "3   1. Honestly I even don't know what this corp f...  \n",
       "4   Is every Mastekeer aware of Tech & Innovation?...  \n",
       "5                                                 NaN  \n",
       "6                                                 NaN  \n",
       "7   We need to provide more opportunities/events w...  \n",
       "8                                                 NaN  \n",
       "9   Please add more or similar or analytics/big da...  \n",
       "10                                                NaN  \n",
       "11                                                NaN  \n",
       "12                                                NaN  \n",
       "13    Technology adoption,Infra ,Canteen food quality  \n",
       "14                                     Marketing & HR  \n",
       "15                                                No.  "
      ]
     },
     "execution_count": 4,
     "metadata": {},
     "output_type": "execute_result"
    }
   ],
   "source": [
    "a"
   ]
  },
  {
   "cell_type": "code",
   "execution_count": null,
   "metadata": {},
   "outputs": [],
   "source": []
  },
  {
   "cell_type": "code",
   "execution_count": null,
   "metadata": {},
   "outputs": [],
   "source": []
  },
  {
   "cell_type": "code",
   "execution_count": null,
   "metadata": {},
   "outputs": [],
   "source": []
  },
  {
   "cell_type": "code",
   "execution_count": null,
   "metadata": {},
   "outputs": [],
   "source": []
  }
 ],
 "metadata": {
  "kernelspec": {
   "display_name": "Python 3",
   "language": "python",
   "name": "python3"
  },
  "language_info": {
   "codemirror_mode": {
    "name": "ipython",
    "version": 3
   },
   "file_extension": ".py",
   "mimetype": "text/x-python",
   "name": "python",
   "nbconvert_exporter": "python",
   "pygments_lexer": "ipython3",
   "version": "3.6.5"
  }
 },
 "nbformat": 4,
 "nbformat_minor": 2
}
