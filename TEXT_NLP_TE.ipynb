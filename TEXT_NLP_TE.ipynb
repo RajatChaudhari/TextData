{
 "cells": [
  {
   "cell_type": "code",
   "execution_count": 21,
   "metadata": {},
   "outputs": [],
   "source": [
    "from bs4 import BeautifulSoup\n",
    "import requests\n",
    "import re"
   ]
  },
  {
   "cell_type": "code",
   "execution_count": 30,
   "metadata": {
    "collapsed": true
   },
   "outputs": [],
   "source": [
    "page=requests.get(\"http://www.dailymail.co.uk/sport/index.html\")"
   ]
  },
  {
   "cell_type": "code",
   "execution_count": 31,
   "metadata": {
    "collapsed": true
   },
   "outputs": [],
   "source": [
    "soup=BeautifulSoup(page.content, 'html.parser')"
   ]
  },
  {
   "cell_type": "code",
   "execution_count": 55,
   "metadata": {},
   "outputs": [],
   "source": [
    "sportslinks=[a['href'].split('#')[0] for a in soup.find_all('a',attrs={'href':re.compile(\"^http://www.dailymail.co.uk/sport\")})]"
   ]
  },
  {
   "cell_type": "code",
   "execution_count": 56,
   "metadata": {},
   "outputs": [
    {
     "data": {
      "text/plain": [
       "['http://www.dailymail.co.uk/sport/football/article-6028279/Chelsea-vs-Manchester-City-LIVE-silverware-season-grabs-Community-Shield.html',\n",
       " 'http://www.dailymail.co.uk/sport/football/article-6028225/Manchester-United-fly-Germany-Bayern-Munich-friendly.html',\n",
       " 'http://www.dailymail.co.uk/sport/football/article-6028225/Manchester-United-fly-Germany-Bayern-Munich-friendly.html',\n",
       " 'http://www.dailymail.co.uk/sport/football/article-6028231/Transfer-news-LIVE-latest-Premier-League-Europe.html',\n",
       " 'http://www.dailymail.co.uk/sport/sportsnews/article-6028363/Rangers-legend-Nacho-Novo-confronts-Celtic-fan-Belfast-airport-vile-chant.html',\n",
       " 'http://www.dailymail.co.uk/sport/sportsnews/article-6028363/Rangers-legend-Nacho-Novo-confronts-Celtic-fan-Belfast-airport-vile-chant.html',\n",
       " 'http://www.dailymail.co.uk/sport/football/article-6028535/Liverpool-push-Manchester-City-way-season-says-Graeme-Souness.html',\n",
       " 'http://www.dailymail.co.uk/sport/football/article-6028479/Former-Man-United-chief-Peter-Kenyon-urges-Jose-Mourinho-Ed-Woodward-repair-rift.html',\n",
       " 'http://www.dailymail.co.uk/sport/football/article-6027133/Jose-Mourinho-collision-course-elusive-United-chief-Woodward.html',\n",
       " 'http://www.dailymail.co.uk/sport/football/article-6027133/Jose-Mourinho-collision-course-elusive-United-chief-Woodward.html',\n",
       " 'http://www.dailymail.co.uk/sport/football/article-6028449/Chelsea-prepared-step-Wilfried-Zaha-chase.html',\n",
       " 'http://www.dailymail.co.uk/sport/football/article-6028449/Chelsea-prepared-step-Wilfried-Zaha-chase.html',\n",
       " 'http://www.dailymail.co.uk/sport/football/article-6028147/Man-United-offer-Anthony-Martial-exchange-Willian.html',\n",
       " 'http://www.dailymail.co.uk/sport/football/article-6028147/Man-United-offer-Anthony-Martial-exchange-Willian.html',\n",
       " 'http://www.dailymail.co.uk/sport/football/article-6028509/Aberdeen-1-1-Rangers-Steven-Gerrard-forced-settle-point-Scottish-Premiership-debut.html',\n",
       " 'http://www.dailymail.co.uk/sport/football/article-6027077/Unai-Emery-ready-Arsenal-revolution-test.html',\n",
       " 'http://www.dailymail.co.uk/sport/football/article-6027077/Unai-Emery-ready-Arsenal-revolution-test.html',\n",
       " 'http://www.dailymail.co.uk/sport/football/article-6027029/10-things-want-make-special-Premier-League-season.html',\n",
       " 'http://www.dailymail.co.uk/sport/football/article-6027029/10-things-want-make-special-Premier-League-season.html',\n",
       " 'http://www.dailymail.co.uk/sport/football/article-6027121/No-excuses-Liverpool-splashed-cash-summer-challenge-title.html',\n",
       " 'http://www.dailymail.co.uk/sport/football/article-6027121/No-excuses-Liverpool-splashed-cash-summer-challenge-title.html',\n",
       " 'http://www.dailymail.co.uk/sport/cricket/article-6028349/England-include-youngster-Ollie-Pope-second-Test-against-India.html',\n",
       " 'http://www.dailymail.co.uk/sport/football/article-6028325/Jose-Mourinhos-Manchester-United-situation-monitored-Portugal-FA.html',\n",
       " 'http://www.dailymail.co.uk/sport/football/article-6028325/Jose-Mourinhos-Manchester-United-situation-monitored-Portugal-FA.html',\n",
       " 'http://www.dailymail.co.uk/sport/premierleague/article-6027251/Premier-League-transfer-guide-clubs-summer-business-assessed-ahead-transfer-deadline.html',\n",
       " 'http://www.dailymail.co.uk/sport/premierleague/article-6027251/Premier-League-transfer-guide-clubs-summer-business-assessed-ahead-transfer-deadline.html',\n",
       " 'http://www.dailymail.co.uk/sport/football/article-6028523/Cristiano-Ronaldo-trains-reduced-Juventus-team-Turin.html',\n",
       " 'http://www.dailymail.co.uk/sport/ufc/article-6028083/UFC-227-TJ-Dilashaw-beats-Cody-Garbrandt-round.html',\n",
       " 'http://www.dailymail.co.uk/sport/ufc/article-6028083/UFC-227-TJ-Dilashaw-beats-Cody-Garbrandt-round.html',\n",
       " 'http://www.dailymail.co.uk/sport/football/article-6028281/Manchester-United-target-Ivan-Perisic-drops-Bayern-Munich-hint-decides-future.html',\n",
       " 'http://www.dailymail.co.uk/sport/football/article-6028281/Manchester-United-target-Ivan-Perisic-drops-Bayern-Munich-hint-decides-future.html',\n",
       " 'http://www.dailymail.co.uk/sport/football/article-6027035/Alisson-Becker-kept-clean-sheet-Liverpool-debut-against-Napoli.html',\n",
       " 'http://www.dailymail.co.uk/sport/football/article-6027441/Jurgen-Klopp-praise-Alisson-impressive-debut.html',\n",
       " 'http://www.dailymail.co.uk/sport/football/article-6028433/My-goal-isnt-return-France-Im-Chelsea-player-Olivier-Giroud-vows-stay.html',\n",
       " 'http://www.dailymail.co.uk/sport/football/article-6028255/Real-Madrid-manager-Julen-Lopetegui-insists-Luka-Modric-wont-sold-Inter-Milan.html',\n",
       " 'http://www.dailymail.co.uk/sport/football/article-6026801/Liverpool-5-0-Napoli-Jurgen-Klopps-seal-emphatic-victory.html',\n",
       " 'http://www.dailymail.co.uk/sport/football/article-6026801/Liverpool-5-0-Napoli-Jurgen-Klopps-seal-emphatic-victory.html',\n",
       " 'http://www.dailymail.co.uk/sport/football/article-6027369/Real-Madrid-3-1-Juventus-Gareth-Bale-scores-superb-25-yard-strike.html',\n",
       " 'http://www.dailymail.co.uk/sport/football/article-6027591/Manchester-Uniteds-Timothy-Fosu-Mensah-set-join-Hertha-Berlin.html',\n",
       " 'http://www.dailymail.co.uk/sport/football/article-6027469/Rafa-Benitez-voices-concerns-Newcastles-lack-ambition-transfer-market.html',\n",
       " 'http://www.dailymail.co.uk/sport/football/article-6028327/Leonardo-Bonucci-insists-apologise-making-Juventus-return.html',\n",
       " 'http://www.dailymail.co.uk/sport/rugbyunion/article-6028411/Eddie-Jones-takes-England-training-second-day-camp-Teddington.html',\n",
       " 'http://www.dailymail.co.uk/sport/football/article-6026989/Girona-4-1-Tottenham-Second-string-Spurs-easily-beaten-Spain.html',\n",
       " 'http://www.dailymail.co.uk/sport/football/article-6027119/Five-new-faces-look-Premier-League-season.html',\n",
       " 'http://www.dailymail.co.uk/sport/football/article-6027245/Eden-Hazard-set-return-Chelsea-training-week-amid-Real-Madrid-interest.html',\n",
       " 'http://www.dailymail.co.uk/sport/football/article-6028365/Former-Chelsea-striker-Demba-Ba-suffers-racial-abuse-Chinese-Super-League-clash.html',\n",
       " 'http://www.dailymail.co.uk/sport/cricket/article-6026131/England-seal-31-run-Test-win-India-thanks-Ben-Stokes.html',\n",
       " 'http://www.dailymail.co.uk/sport/cricket/article-6026131/England-seal-31-run-Test-win-India-thanks-Ben-Stokes.html',\n",
       " 'http://www.dailymail.co.uk/sport/cricket/article-6027295/Why-mystery-man-Ollie-Pope-provide-answer-Englands-prayers-against-India-Lords.html',\n",
       " 'http://www.dailymail.co.uk/sport/cricket/article-6027141/That-really-nerve-shredder-Super-Sam-Curran-Jimmy-Anderson-turned-tide-us.html',\n",
       " 'http://www.dailymail.co.uk/sport/cricket/article-6027229/After-amazing-day-five-things-England-change-Lords.html',\n",
       " 'http://www.dailymail.co.uk/sport/football/article-6028119/Wayne-Rooney-strikes-woodwork-near-perfect-free-kick.html',\n",
       " 'http://www.dailymail.co.uk/sport/football/article-6026947/Arsenal-2-0-Lazio-Reiss-Nelson-Pierre-Emerick-Aubameyang-net.html',\n",
       " 'http://www.dailymail.co.uk/sport/football/article-6026915/Bournemouth-agree-club-record-25million-fee-Levante-Colombian-midfielder-Jefferson-Lerma.html',\n",
       " 'http://www.dailymail.co.uk/sport/football/article-6026915/Bournemouth-agree-club-record-25million-fee-Levante-Colombian-midfielder-Jefferson-Lerma.html',\n",
       " 'http://www.dailymail.co.uk/sport/football/article-6027201/Can-Ed-Woodward-solve-Jose-Mourinhos-pre-season-malaise.html',\n",
       " 'http://www.dailymail.co.uk/sport/football/article-6027143/Wholl-fall-guys-Watch-West-Ham-spending-big-does-not-mean-stay-up.html',\n",
       " 'http://www.dailymail.co.uk/sport/football/article-6026191/Paul-Clement-slams-overweight-lazy-Darren-Bent-Derby-criticism.html',\n",
       " 'http://www.dailymail.co.uk/sport/football/article-6026191/Paul-Clement-slams-overweight-lazy-Darren-Bent-Derby-criticism.html',\n",
       " 'http://www.dailymail.co.uk/sport/football/article-6027379/Manchester-United-turn-attention-Bayerns-Jerome-Boateng.html',\n",
       " 'http://www.dailymail.co.uk/sport/football/article-6027363/West-Brom-unveil-bizarre-Boiler-Man-mascot-Hawthorns-pitch-ahead-clash-Bolton.html',\n",
       " 'http://www.dailymail.co.uk/sport/football/article-6026655/Bournemouth-thrash-Marseille-5-2-final-pre-season-friendly-Vitality-Stadium.html',\n",
       " 'http://www.dailymail.co.uk/sport/football/article-6028527/Ben-Gibson-completes-15million-Burnley-Middlesbrough.html',\n",
       " 'http://www.dailymail.co.uk/sport/football/article-6027561/West-Ham-make-offer-Le-Havres-10-7million-rated-defender-Harold-Moukoudi.html',\n",
       " 'http://www.dailymail.co.uk/sport/football/article-6028321/Sevilla-sign-Aleix-Vidal-Barcelona-deal-worth-9million.html',\n",
       " 'http://www.dailymail.co.uk/sport/football/article-6027267/Five-new-things-look-Premier-League-season.html',\n",
       " 'http://www.dailymail.co.uk/sport/football/article-6026125/Max-Meyer-one-worlds-best-finds-Crystal-Palace.html',\n",
       " 'http://www.dailymail.co.uk/sport/football/article-6026125/Max-Meyer-one-worlds-best-finds-Crystal-Palace.html',\n",
       " 'http://www.dailymail.co.uk/sport/football/article-6027293/Arsenal-left-crisis-Monreal-Kolasinac-injured.html',\n",
       " 'http://www.dailymail.co.uk/sport/football/article-6026685/Newcastle-0-1-FC-Augsburg-Rafa-Benitezs-men-fall-defeat-final-pre-season-friendly.html',\n",
       " 'http://www.dailymail.co.uk/sport/football/article-6027199/Jorginhos-mother-breaks-tears-sight-Chelsea-shirt.html',\n",
       " 'http://www.dailymail.co.uk/sport/football/article-6026603/Everton-2-3-Valencia-Toffees-suffer-defeat-final-pre-season-friendly.html',\n",
       " 'http://www.dailymail.co.uk/sport/football/article-6026603/Everton-2-3-Valencia-Toffees-suffer-defeat-final-pre-season-friendly.html',\n",
       " 'http://www.dailymail.co.uk/sport/football/article-6026821/Crystal-Palace-4-1-Toulouse-Zaha-scores-new-signing-Kouyate-makes-debut.html',\n",
       " 'http://www.dailymail.co.uk/sport/football/article-6027527/Leicester-agree-initial-12-5million-fee-Monacos-Rachid-Ghezzal.html',\n",
       " 'http://www.dailymail.co.uk/sport/football/article-6027489/Crystal-Palace-talks-sign-Red-Bull-Salzburg-striker-Munas-Dabbur.html',\n",
       " 'http://www.dailymail.co.uk/sport/football/article-6027489/Crystal-Palace-talks-sign-Red-Bull-Salzburg-striker-Munas-Dabbur.html',\n",
       " 'http://www.dailymail.co.uk/sport/index.rss',\n",
       " 'http://www.dailymail.co.uk/sport/football/article-6027219/EFL-highlights-Quest-slammed-looking-like-1992-season-review.html',\n",
       " 'http://www.dailymail.co.uk/sport/football/article-6027081/Huddersfield-goalkeeper-Jonas-Lossl-relives-save-worth-100million.html',\n",
       " 'http://www.dailymail.co.uk/sport/football/article-6026905/Leicester-2-1-Lille-Kelechi-Iheanacho-nets-double.html',\n",
       " 'http://www.dailymail.co.uk/sport/football/article-6026739/Aleksandar-Mitrovic-makes-goalscoring-return-Fulhams-final-pre-season-friendly.html',\n",
       " 'http://www.dailymail.co.uk/sport/football/article-6026733/Fleetwood-Town-0-1-AFC-Wimbledon-Joey-Barton-suffers-narrow-defeat-game.html',\n",
       " 'http://www.dailymail.co.uk/sport/football/article-6026767/Lynden-Gooch-gave-Sunderland-opening-win-Charlton-look-bounce-straight-up.html',\n",
       " 'http://www.dailymail.co.uk/sport/football/article-6028473/Preston-want-sign-Jon-Walters-loan-local-rivals-Burnley.html',\n",
       " 'http://www.dailymail.co.uk/sport/football/article-6026657/Millwall-2-2-Middlesbrough-George-Friend-scores-gasp-leveller.html',\n",
       " 'http://www.dailymail.co.uk/sport/premierleague/article-6027303/5-young-stars-England-want-success-teenagers-breakout-successes.html',\n",
       " 'http://www.dailymail.co.uk/sport/football/article-6026701/West-Brom-1-2-Bolton-Yanic-Wildschut-scores-gasp-winner.html',\n",
       " 'http://www.dailymail.co.uk/sport/football/article-6026771/Championship-round-Brentford-smash-five-goals-opening-afternoon-Preston-Wigan-win.html',\n",
       " 'http://www.dailymail.co.uk/sport/football/article-6026909/Neil-Warnock-says-keeping-Cardiff-greatest-achievement-manager.html',\n",
       " 'http://www.dailymail.co.uk/sport/football/article-6026909/Neil-Warnock-says-keeping-Cardiff-greatest-achievement-manager.html',\n",
       " 'http://www.dailymail.co.uk/sport/football/article-6026819/Cardiff-1-2-Real-Betis-Loren-Moron-Christian-Tello-score-La-Liga-outfit.html',\n",
       " 'http://www.dailymail.co.uk/sport/football/article-6026575/Southampton-0-3-B-Monchengladbach-Sorry-end-pre-season-Saints.html',\n",
       " 'http://www.dailymail.co.uk/sport/football_league_championship/article-6027075/Marcela-Bielsa-desperate-deliver-Leeds-prepares-make-Championship-management-debut.html',\n",
       " 'http://www.dailymail.co.uk/sport/football/article-6026965/Conor-Coady-Wolves-Premier-Leagues-hottest-newcomers.html',\n",
       " 'http://www.dailymail.co.uk/sport/football/article-6026741/Celtic-3-1-Livingston-Rogic-Edouard-Ntcham-ensure-champions-flyer.html',\n",
       " 'http://www.dailymail.co.uk/sport/football/article-6026777/Sheffield-Utd-1-2-Swansea-Dhanda-scores-winner-Swans-touch.html',\n",
       " 'http://www.dailymail.co.uk/sport/football/article-6026835/Juan-Matas-charity-Common-Goal-celebrates-anniversary-615-000-raised.html',\n",
       " 'http://www.dailymail.co.uk/sport/rugbyunion/article-6026325/England-rugby-stars-defy-UK-heatwave-undertake-training-London.html',\n",
       " 'http://www.dailymail.co.uk/sport/rugbyunion/article-6026325/England-rugby-stars-defy-UK-heatwave-undertake-training-London.html',\n",
       " 'http://www.dailymail.co.uk/sport/golf/article-6027345/Georgia-Hall-believes-putting-practice-paying-Womens-British-Open.html',\n",
       " 'http://www.dailymail.co.uk/sport/othersports/article-6026899/Adam-Peaty-beats-world-record-secure-European-Championship-gold-Glasgow.html',\n",
       " 'http://www.dailymail.co.uk/sport/sportsnews/article-6027501/Jan-Ullrich-detained-24-hours-Spain-forcibly-entering-neighbours-house.html',\n",
       " 'http://www.dailymail.co.uk/sport/cricket/article-6027185/Joe-Root-left-excited-following-Sam-Currans-brilliant-performance-against-India.html',\n",
       " 'http://www.dailymail.co.uk/sport/cricket/article-6028185/Virat-Kohli-replaces-Steve-Smith-Test-batsman-rankings.html',\n",
       " 'http://www.dailymail.co.uk/sport/othersports/article-6027069/Nethaneel-Mitchell-Blake-calls-individual-golds-European-Championships.html',\n",
       " 'http://www.dailymail.co.uk/sport/golf/article-6027323/Ignorance-bliss-Rory-McIlroy-vows-not-overthink-PGA-bid.html',\n",
       " 'http://www.dailymail.co.uk/sport/racing/article-6027079/Mark-Johnston-brink-historic-record.html',\n",
       " 'http://www.dailymail.co.uk/sport/racing/article-6027313/Jason-Watson-wins-Stewards-Cup-20-1-shot-Gifted-Master-day-five-Glorious-Goodwood.html',\n",
       " 'http://www.dailymail.co.uk/sport/football/article-5633343/Premier-League-Transfers-Club-club-list-Summer-2018-moves.html',\n",
       " 'http://www.dailymail.co.uk/sport/football/article-5840219/Premier-League-2018-19-fixtures-home-away-matches.html',\n",
       " 'http://www.dailymail.co.uk/sport/football/article-5633117/Premier-League-fixtures-results-pre-season-2018.html',\n",
       " 'http://www.dailymail.co.uk/sport/football/article-5633453/Premier-League-Kits-2018-19.html',\n",
       " 'http://www.dailymail.co.uk/sport/football/article-5633453/Premier-League-Kits-2018-19.html',\n",
       " 'http://www.dailymail.co.uk/sport/football/article-6023789/JORDAN-PICKFORD-INTERVIEW-Englands-new-goalkeeping-hero-lined-penalty.html',\n",
       " 'http://www.dailymail.co.uk/sport/football/article-6023789/JORDAN-PICKFORD-INTERVIEW-Englands-new-goalkeeping-hero-lined-penalty.html',\n",
       " 'http://www.dailymail.co.uk/sport/football/article-6025853/Maurizio-Sarri-mould-Eden-Hazard-goal-machine-Chelsea.html',\n",
       " 'http://www.dailymail.co.uk/sport/football/article-6025853/Maurizio-Sarri-mould-Eden-Hazard-goal-machine-Chelsea.html',\n",
       " 'http://www.dailymail.co.uk/sport/football/article-6023177/Arturo-Vidal-divisive-signing-Barcelona-shadow-alternatives-loom-fails.html',\n",
       " 'http://www.dailymail.co.uk/sport/football/article-6023487/Coutinho-backed-flourish-season-Barcelona.html']"
      ]
     },
     "execution_count": 56,
     "metadata": {},
     "output_type": "execute_result"
    }
   ],
   "source": [
    "sportslinks"
   ]
  },
  {
   "cell_type": "code",
   "execution_count": null,
   "metadata": {},
   "outputs": [],
   "source": [
    "sportsarticles=[]\n",
    "\n",
    "for links in sportslinks:\n",
    "    body=requests.get(links)\n",
    "    article=BeautifulSoup(body.content,'html.parser')\n",
    "    paras = sportsarticles.append(article.find_all('p'))\n",
    "    if paras:\n",
    "        one=[]\n",
    "        for text in paras:\n",
    "            one.append(text.get_text())\n",
    "        print(one)\n",
    "    sportsarticles.append(one)    \n",
    "        \n",
    "    "
   ]
  },
  {
   "cell_type": "code",
   "execution_count": 64,
   "metadata": {},
   "outputs": [],
   "source": [
    "import csv\n",
    "import pandas as pd"
   ]
  },
  {
   "cell_type": "code",
   "execution_count": 68,
   "metadata": {},
   "outputs": [],
   "source": [
    "SportsArticles=pd.DataFrame({'articles':sportsarticles})"
   ]
  },
  {
   "cell_type": "code",
   "execution_count": 69,
   "metadata": {},
   "outputs": [],
   "source": [
    "SportsArticles.to_csv(\"SportsArticles.csv\",sep=',',encoding='utf-8')"
   ]
  },
  {
   "cell_type": "code",
   "execution_count": 72,
   "metadata": {},
   "outputs": [
    {
     "data": {
      "text/plain": [
       "articles    []\n",
       "Name: 1, dtype: object"
      ]
     },
     "execution_count": 72,
     "metadata": {},
     "output_type": "execute_result"
    }
   ],
   "source": [
    "SportsArticles.loc[1]"
   ]
  },
  {
   "cell_type": "code",
   "execution_count": null,
   "metadata": {
    "collapsed": true
   },
   "outputs": [],
   "source": []
  }
 ],
 "metadata": {
  "kernelspec": {
   "display_name": "Python 3",
   "language": "python",
   "name": "python3"
  },
  "language_info": {
   "codemirror_mode": {
    "name": "ipython",
    "version": 3
   },
   "file_extension": ".py",
   "mimetype": "text/x-python",
   "name": "python",
   "nbconvert_exporter": "python",
   "pygments_lexer": "ipython3",
   "version": "3.6.3"
  }
 },
 "nbformat": 4,
 "nbformat_minor": 2
}
