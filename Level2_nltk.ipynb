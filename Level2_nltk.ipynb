{
 "cells": [
  {
   "cell_type": "code",
   "execution_count": 1,
   "metadata": {
    "collapsed": true
   },
   "outputs": [],
   "source": [
    "from bs4 import BeautifulSoup\n",
    "import requests\n",
    "import re\n",
    "import csv\n",
    "import pandas as pd\n",
    "import numpy as np\n",
    "import nltk\n",
    "import matplotlib.pyplot as plt\n",
    "import seaborn as sns\n",
    "import scipy as sp\n",
    "import math\n",
    "\n",
    "import string, unicodedata\n",
    "#import contractions\n",
    "#import inflect\n",
    "from time import sleep\n",
    "#from nltk.corpus import stopwords\n",
    "from nltk.stem import LancasterStemmer, WordNetLemmatizer\n",
    "pd.set_option('display.max_colwidth',1000)\n",
    "pd.set_option('display.max_columns', None) "
   ]
  },
  {
   "cell_type": "code",
   "execution_count": 128,
   "metadata": {
    "collapsed": true
   },
   "outputs": [],
   "source": []
  },
  {
   "cell_type": "code",
   "execution_count": 2,
   "metadata": {
    "collapsed": true
   },
   "outputs": [],
   "source": [
    "TextData=pd.read_csv(\"processedData6Aug.csv\")"
   ]
  },
  {
   "cell_type": "code",
   "execution_count": 3,
   "metadata": {},
   "outputs": [
    {
     "data": {
      "text/html": [
       "<div>\n",
       "<style scoped>\n",
       "    .dataframe tbody tr th:only-of-type {\n",
       "        vertical-align: middle;\n",
       "    }\n",
       "\n",
       "    .dataframe tbody tr th {\n",
       "        vertical-align: top;\n",
       "    }\n",
       "\n",
       "    .dataframe thead th {\n",
       "        text-align: right;\n",
       "    }\n",
       "</style>\n",
       "<table border=\"1\" class=\"dataframe\">\n",
       "  <thead>\n",
       "    <tr style=\"text-align: right;\">\n",
       "      <th></th>\n",
       "      <th>Tokens</th>\n",
       "      <th>MsgSentenceTokens</th>\n",
       "      <th>NormTokens</th>\n",
       "      <th>POS_Msg</th>\n",
       "      <th>Sentiments</th>\n",
       "      <th>Sentiments2</th>\n",
       "      <th>stems</th>\n",
       "      <th>lemmas</th>\n",
       "      <th>articles</th>\n",
       "      <th>TFIDF</th>\n",
       "      <th>POS_Msg2</th>\n",
       "    </tr>\n",
       "  </thead>\n",
       "  <tbody>\n",
       "    <tr>\n",
       "      <th>0</th>\n",
       "      <td>['No', 'wonder', 'Jose', 'Mourinho', 'is', 'worried', 'about', 'the', 'start', 'of', 'the', 'new', 'season', '.', 'Four', 'days', 'to', 'go', 'until', 'it', 'kicks', 'off', 'at', 'Old', 'Trafford', 'and', 'he', 'is', 'still', 'waiting', 'for', 'the', 'real', 'Manchester', 'United', 'to', 'turn', 'up', '.', 'This', 'has', 'been', 'a', 'strange', ',', 'disjointed', 'few', 'weeks', 'for', 'Mourinho', 'and', 'his', 'players', ',', 'and', 'it', 'showed', 'as', 'they', 'completed', 'their', 'pre-season', 'on', 'a', 'muggy', 'night', 'in', 'Munich', '.', 'On', 'this', 'evidence', ',', 'whatever', 'team', 'United', 'put', 'out', 'on', 'Friday', 'night', 'will', 'struggle', 'to', 'overcome', 'Leicester', 'never', 'mind', 'challenge', 'Manchester', 'City', \"'s\", 'dominance', 'of', 'the', 'Premier', 'League', '.', 'BAYERN', 'MUNICH', '(', '3-4-3', ')', ':', 'Neuer', ';', 'Kimmich', '(', 'Rudy', '72', ')', ',', 'Sule', ',', 'Hummels', '(', 'Boateng', '46', ')', ',', 'Alaba', '(', 'Bernat', '56...</td>\n",
       "      <td>['No wonder Jose Mourinho is worried about the start of the new season.', 'Four days to go until it kicks off at Old Trafford and he is still waiting for the real Manchester United to turn up.', 'This has been a strange, disjointed few weeks for Mourinho and his players, and it showed as they completed their pre-season on a muggy night in Munich.', \"On this evidence, whatever team United put out on Friday night will struggle to overcome Leicester never mind challenge Manchester City's dominance of the Premier League.\", 'BAYERN MUNICH (3-4-3): Neuer; Kimmich (Rudy 72), Sule, Hummels (Boateng 46), Alaba (Bernat 56); Martinez; Robben, Muller, Thiago (Rafinha 60), Ribery; Gnabry.', 'Subs: Ulreich, Hoffmann, Lewandowski, Boateng, Goretzka, Coman, Mai, Zylla, Franzke.', 'Booked: Boateng Scorer: Martinez 59 MAN UTD (4-3-3): De Gea (Grant 78); Darmian (Jones 65), Bailly (Smalling 51), Lindelof (Tuanzebe 78), Shaw (Mitchell 78); Herrera (Garner 81), Pereira, Fred (Chong 78); Mata (McTominay...</td>\n",
       "      <td>['no', 'wonder', 'jose', 'mourinho', 'worried', 'start', 'new', 'season', 'four', 'days', 'go', 'kicks', 'old', 'trafford', 'still', 'waiting', 'real', 'manchester', 'united', 'turn', 'this', 'strange', 'disjointed', 'weeks', 'mourinho', 'players', 'showed', 'completed', 'preseason', 'muggy', 'night', 'munich', 'on', 'evidence', 'whatever', 'team', 'united', 'put', 'friday', 'night', 'struggle', 'overcome', 'leicester', 'never', 'mind', 'challenge', 'manchester', 'city', 's', 'dominance', 'premier', 'league', 'bayern', 'munich', '343', 'neuer', 'kimmich', 'rudy', '72', 'sule', 'hummels', 'boateng', '46', 'alaba', 'bernat', '56', 'martinez', 'robben', 'muller', 'thiago', 'rafinha', '60', 'ribery', 'gnabry', 'subs', 'ulreich', 'hoffmann', 'lewandowski', 'boateng', 'goretzka', 'coman', 'mai', 'zylla', 'franzke', 'booked', 'boateng', 'scorer', 'martinez', '59', 'man', 'utd', '433', 'de', 'gea', 'grant', '78', 'darmian', 'jones', '65', 'bailly', 'smalling', '51', 'lindelof', 'tuanzebe',...</td>\n",
       "      <td>[('no', 'DT'), ('wonder', 'NN'), ('jose', 'NN'), ('mourinho', 'NN'), ('worried', 'VBD'), ('start', 'JJ'), ('new', 'JJ'), ('season', 'NN'), ('four', 'CD'), ('days', 'NNS'), ('go', 'VBP'), ('kicks', 'NNS'), ('old', 'JJ'), ('trafford', 'NN'), ('still', 'RB'), ('waiting', 'VBG'), ('real', 'JJ'), ('manchester', 'NN'), ('united', 'VBD'), ('turn', 'NN'), ('this', 'DT'), ('strange', 'JJ'), ('disjointed', 'JJ'), ('weeks', 'NNS'), ('mourinho', 'NN'), ('players', 'NNS'), ('showed', 'VBD'), ('completed', 'VBN'), ('preseason', 'NN'), ('muggy', 'NN'), ('night', 'NN'), ('munich', 'NN'), ('on', 'IN'), ('evidence', 'NN'), ('whatever', 'NN'), ('team', 'NN'), ('united', 'VBD'), ('put', 'NN'), ('friday', 'NN'), ('night', 'NN'), ('struggle', 'NN'), ('overcome', 'VBP'), ('leicester', 'NN'), ('never', 'RB'), ('mind', 'VBP'), ('challenge', 'JJ'), ('manchester', 'NN'), ('city', 'NN'), ('s', 'NN'), ('dominance', 'NN'), ('premier', 'NN'), ('league', 'NN'), ('bayern', 'NN'), ('munich', '$'), ('343', 'CD'), ('...</td>\n",
       "      <td>1</td>\n",
       "      <td>-1.0</td>\n",
       "      <td>['wond', 'jos', 'mourinho', 'worry', 'start', 'new', 'season', 'four', 'day', 'go', 'kick', 'old', 'trafford', 'stil', 'wait', 'real', 'manchest', 'unit', 'turn', 'strange', 'disjoint', 'week', 'mourinho', 'play', 'show', 'complet', 'preseason', 'muggy', 'night', 'munich', 'evid', 'whatev', 'team', 'unit', 'put', 'friday', 'night', 'struggle', 'overcom', 'leicest', 'nev', 'mind', 'challeng', 'manchest', 'city', 'domin', 'premy', 'leagu', 'bayern', 'munich', '343', 'neu', 'kimmich', 'rudy', '72', 'sul', 'hummel', 'boateng', '46', 'alab', 'bern', '56', 'martinez', 'rob', 'mul', 'thiago', 'rafinh', '60', 'ribery', 'gnabry', 'sub', 'ulreich', 'hoffman', 'lewandowsk', 'boateng', 'goretzk', 'com', 'mai', 'zyll', 'franzk', 'book', 'boateng', 'scor', 'martinez', '59', 'man', 'utd', '433', 'de', 'gea', 'grant', '78', 'darm', 'jon', '65', 'bail', 'smal', '51', 'lindelof', 'tuanzeb', '78', 'shaw', 'mitchel', '78', 'herrer', 'garn', '81', 'pereir', 'fred', 'chong', '78', 'mat', 'mctominay', '6...</td>\n",
       "      <td>['wonder', 'jose', 'mourinho', 'worry', 'start', 'new', 'season', 'four', 'days', 'go', 'kick', 'old', 'trafford', 'still', 'wait', 'real', 'manchester', 'unite', 'turn', 'strange', 'disjoint', 'weeks', 'mourinho', 'players', 'show', 'complete', 'preseason', 'muggy', 'night', 'munich', 'evidence', 'whatever', 'team', 'unite', 'put', 'friday', 'night', 'struggle', 'overcome', 'leicester', 'never', 'mind', 'challenge', 'manchester', 'city', 'dominance', 'premier', 'league', 'bayern', 'munich', '343', 'neuer', 'kimmich', 'rudy', '72', 'sule', 'hummels', 'boateng', '46', 'alaba', 'bernat', '56', 'martinez', 'robben', 'muller', 'thiago', 'rafinha', '60', 'ribery', 'gnabry', 'sub', 'ulreich', 'hoffmann', 'lewandowski', 'boateng', 'goretzka', 'coman', 'mai', 'zylla', 'franzke', 'book', 'boateng', 'scorer', 'martinez', '59', 'man', 'utd', '433', 'de', 'gea', 'grant', '78', 'darmian', 'jones', '65', 'bailly', 'smalling', '51', 'lindelof', 'tuanzebe', '78', 'shaw', 'mitchell', '78', 'herrera...</td>\n",
       "      <td>No wonder Jose Mourinho is worried about the start of the new season. Four days to go until it kicks off at Old Trafford and he is still waiting for the real Manchester United to turn up. This has been a strange, disjointed few weeks for Mourinho and his players, and it showed as they completed their pre-season on a muggy night in Munich. On this evidence, whatever team United put out on Friday night will struggle to overcome Leicester never mind challenge Manchester City's dominance of the Premier League. BAYERN MUNICH (3-4-3): Neuer; Kimmich (Rudy 72), Sule, Hummels (Boateng 46), Alaba (Bernat 56); Martinez; Robben, Muller, Thiago (Rafinha 60), Ribery; Gnabry. Subs: Ulreich, Hoffmann, Lewandowski, Boateng, Goretzka, Coman, Mai, Zylla, Franzke. Booked: Boateng Scorer: Martinez 59 MAN UTD (4-3-3): De Gea (Grant 78); Darmian (Jones 65), Bailly (Smalling 51), Lindelof (Tuanzebe 78), Shaw (Mitchell 78); Herrera (Garner 81), Pereira, Fred (Chong 78); Mata (McTominay 65), Rashford (Fosu...</td>\n",
       "      <td>&lt;FreqDist with 41 samples and 3972 outcomes&gt;</td>\n",
       "      <td>[('No', 'DT'), ('wonder', 'NN'), ('Jose', 'NNP'), ('Mourinho', 'NNP'), ('is', 'VBZ'), ('worried', 'VBN'), ('about', 'IN'), ('the', 'DT'), ('start', 'NN'), ('of', 'IN'), ('the', 'DT'), ('new', 'JJ'), ('season', 'NN'), ('.', '.'), ('Four', 'CD'), ('days', 'NNS'), ('to', 'TO'), ('go', 'VB'), ('until', 'IN'), ('it', 'PRP'), ('kicks', 'VBZ'), ('off', 'RP'), ('at', 'IN'), ('Old', 'NNP'), ('Trafford', 'NNP'), ('and', 'CC'), ('he', 'PRP'), ('is', 'VBZ'), ('still', 'RB'), ('waiting', 'VBG'), ('for', 'IN'), ('the', 'DT'), ('real', 'JJ'), ('Manchester', 'NNP'), ('United', 'NNP'), ('to', 'TO'), ('turn', 'VB'), ('up', 'RP'), ('.', '.'), ('This', 'DT'), ('has', 'VBZ'), ('been', 'VBN'), ('a', 'DT'), ('strange', 'JJ'), (',', ','), ('disjointed', 'VBD'), ('few', 'JJ'), ('weeks', 'NNS'), ('for', 'IN'), ('Mourinho', 'NNP'), ('and', 'CC'), ('his', 'PRP$'), ('players', 'NNS'), (',', ','), ('and', 'CC'), ('it', 'PRP'), ('showed', 'VBD'), ('as', 'IN'), ('they', 'PRP'), ('completed', 'VBD'), ('their', 'PR...</td>\n",
       "    </tr>\n",
       "    <tr>\n",
       "      <th>1</th>\n",
       "      <td>['Premier', 'League', 'clubs', 'are', 'facing', 'a', 'last', 'minute', 'panic', 'as', 'they', 'aim', 'to', 'complete', 'their', 'transfer', 'dealings', 'before', 'the', 'season', 'starts', 'on', 'Friday', '.', 'That', 'leaves', 'clubs', 'in', 'England', 'with', 'only', 'four', 'days', 'in', 'which', 'to', 'do', 'their', 'business', ',', 'and', 'there', 'is', 'plenty', 'left', 'to', 'be', 'resolved', '.', 'Sportsmail', 'brings', 'you', 'all', 'the', 'latest', 'news', 'and', 'done', 'deals', 'throughout', 'the', 'day', 'from', '8am', 'to', '8pm', ',', 'so', 'you', 'will', 'not', 'need', 'to', 'go', 'anywhere', 'else', '.', 'If', 'you', 'are', 'using', 'the', 'app', ',', 'please', 'click', 'here', 'to', 'view', 'today', '’', 's', 'live', 'blog', '.', 'Mina', 'had', 'been', 'heavily', 'linked', 'with', 'a', 'switch', 'to', 'United', ',', 'who', 'are', 'eager', 'to', 'bring', 'in', 'another', 'centre-back', '.', 'However', ',', 'the', 'Colombia', 'international', 'is', 'instead', 'edgin...</td>\n",
       "      <td>['Premier League clubs are facing a last minute panic as they aim to complete their transfer dealings before the season starts on Friday.', 'That leaves clubs in England with only four days in which to do their business, and there is plenty left to be resolved.', 'Sportsmail\\xa0brings you all the latest news and done deals throughout the day from 8am to 8pm, so you will not need to go anywhere else.', 'If you are using the app, please click here to view today’s live blog.', 'Mina had been heavily linked with a switch to United, who are eager to bring in another centre-back.', \"However, the Colombia international is instead edging towards joining Everton, where he would become the fourth arrival at Goodison Park in this transfer window following the signings of Richarlison, Joao Virginia and Mina's former Barcelona team-mate Lucas Digne.\", \"For more info, click on Simon's story here.\"]</td>\n",
       "      <td>['premier', 'league', 'clubs', 'facing', 'last', 'minute', 'panic', 'aim', 'complete', 'transfer', 'dealings', 'season', 'starts', 'friday', 'that', 'leaves', 'clubs', 'england', 'four', 'days', 'business', 'plenty', 'left', 'resolved', 'sportsmail', 'brings', 'latest', 'news', 'done', 'deals', 'throughout', 'day', '8am', '8pm', 'need', 'go', 'anywhere', 'else', 'if', 'using', 'app', 'please', 'click', 'view', 'today', 'live', 'blog', 'mina', 'heavily', 'linked', 'switch', 'united', 'eager', 'bring', 'another', 'centreback', 'however', 'colombia', 'international', 'instead', 'edging', 'towards', 'joining', 'everton', 'would', 'become', 'fourth', 'arrival', 'goodison', 'park', 'transfer', 'window', 'following', 'signings', 'richarlison', 'joao', 'virginia', 'mina', 's', 'former', 'barcelona', 'teammate', 'lucas', 'digne', 'for', 'info', 'click', 'simon', 's', 'story']</td>\n",
       "      <td>[('premier', 'JJR'), ('league', 'NN'), ('clubs', 'NNS'), ('facing', 'VBG'), ('last', 'JJ'), ('minute', 'NN'), ('panic', 'JJ'), ('aim', 'NN'), ('complete', 'JJ'), ('transfer', 'NN'), ('dealings', 'NNS'), ('season', 'NN'), ('starts', 'VBZ'), ('friday', 'NN'), ('that', 'WDT'), ('leaves', 'VBZ'), ('clubs', 'NNS'), ('england', 'VBP'), ('four', 'CD'), ('days', 'NNS'), ('business', 'NN'), ('plenty', 'NN'), ('left', 'VBD'), ('resolved', 'VBN'), ('sportsmail', 'JJ'), ('brings', 'NNS'), ('latest', 'JJS'), ('news', 'NN'), ('done', 'VBN'), ('deals', 'NNS'), ('throughout', 'IN'), ('day', 'NN'), ('8am', 'CD'), ('8pm', 'CD'), ('need', 'NN'), ('go', 'VBP'), ('anywhere', 'RB'), ('else', 'RB'), ('if', 'IN'), ('using', 'VBG'), ('app', 'JJ'), ('please', 'NN'), ('click', 'NN'), ('view', 'NN'), ('today', 'NN'), ('live', 'VBP'), ('blog', 'NN'), ('mina', 'FW'), ('heavily', 'RB'), ('linked', 'VBN'), ('switch', 'NN'), ('united', 'JJ'), ('eager', 'NN'), ('bring', 'NN'), ('another', 'DT'), ('centreback', 'NN'...</td>\n",
       "      <td>-1</td>\n",
       "      <td>-1.0</td>\n",
       "      <td>['premy', 'leagu', 'club', 'fac', 'last', 'minut', 'pan', 'aim', 'complet', 'transf', 'deal', 'season', 'start', 'friday', 'leav', 'club', 'england', 'four', 'day', 'busy', 'plenty', 'left', 'resolv', 'sportsmail', 'bring', 'latest', 'new', 'don', 'deal', 'throughout', 'day', '8am', '8pm', 'nee', 'go', 'anywh', 'els', 'us', 'ap', 'pleas', 'click', 'view', 'today', 'liv', 'blog', 'min', 'heavy', 'link', 'switch', 'unit', 'eag', 'bring', 'anoth', 'centreback', 'howev', 'colomb', 'intern', 'instead', 'edg', 'toward', 'join', 'everton', 'would', 'becom', 'four', 'ar', 'goodison', 'park', 'transf', 'window', 'follow', 'sign', 'richarlison', 'joao', 'virgin', 'min', 'form', 'barcelon', 'team', 'luca', 'dign', 'info', 'click', 'simon', 'story']</td>\n",
       "      <td>['premier', 'league', 'club', 'face', 'last', 'minute', 'panic', 'aim', 'complete', 'transfer', 'deal', 'season', 'start', 'friday', 'leave', 'club', 'england', 'four', 'days', 'business', 'plenty', 'leave', 'resolve', 'sportsmail', 'bring', 'latest', 'news', 'do', 'deal', 'throughout', 'day', '8am', '8pm', 'need', 'go', 'anywhere', 'else', 'use', 'app', 'please', 'click', 'view', 'today', 'live', 'blog', 'mina', 'heavily', 'link', 'switch', 'unite', 'eager', 'bring', 'another', 'centreback', 'however', 'colombia', 'international', 'instead', 'edge', 'towards', 'join', 'everton', 'would', 'become', 'fourth', 'arrival', 'goodison', 'park', 'transfer', 'window', 'follow', 'sign', 'richarlison', 'joao', 'virginia', 'mina', 'former', 'barcelona', 'teammate', 'lucas', 'digne', 'info', 'click', 'simon', 'story']</td>\n",
       "      <td>Premier League clubs are facing a last minute panic as they aim to complete their transfer dealings before the season starts on Friday.  That leaves clubs in England with only four days in which to do their business, and there is plenty left to be resolved. Sportsmail brings you all the latest news and done deals throughout the day from 8am to 8pm, so you will not need to go anywhere else. If you are using the app, please click here to view today’s live blog.  Mina had been heavily linked with a switch to United, who are eager to bring in another centre-back. However, the Colombia international is instead edging towards joining Everton, where he would become the fourth arrival at Goodison Park in this transfer window following the signings of Richarlison, Joao Virginia and Mina's former Barcelona team-mate Lucas Digne. For more info, click on Simon's story here.</td>\n",
       "      <td>&lt;FreqDist with 29 samples and 848 outcomes&gt;</td>\n",
       "      <td>[('Premier', 'NNP'), ('League', 'NNP'), ('clubs', 'NNS'), ('are', 'VBP'), ('facing', 'VBG'), ('a', 'DT'), ('last', 'JJ'), ('minute', 'NN'), ('panic', 'NN'), ('as', 'IN'), ('they', 'PRP'), ('aim', 'VBP'), ('to', 'TO'), ('complete', 'VB'), ('their', 'PRP$'), ('transfer', 'NN'), ('dealings', 'NNS'), ('before', 'IN'), ('the', 'DT'), ('season', 'NN'), ('starts', 'VBZ'), ('on', 'IN'), ('Friday', 'NNP'), ('.', '.'), ('That', 'DT'), ('leaves', 'VBZ'), ('clubs', 'NNS'), ('in', 'IN'), ('England', 'NNP'), ('with', 'IN'), ('only', 'RB'), ('four', 'CD'), ('days', 'NNS'), ('in', 'IN'), ('which', 'WDT'), ('to', 'TO'), ('do', 'VB'), ('their', 'PRP$'), ('business', 'NN'), (',', ','), ('and', 'CC'), ('there', 'EX'), ('is', 'VBZ'), ('plenty', 'JJ'), ('left', 'VBN'), ('to', 'TO'), ('be', 'VB'), ('resolved', 'VBN'), ('.', '.'), ('Sportsmail', 'NNP'), ('brings', 'VBZ'), ('you', 'PRP'), ('all', 'PDT'), ('the', 'DT'), ('latest', 'JJS'), ('news', 'NN'), ('and', 'CC'), ('done', 'VBN'), ('deals', 'NNS'), ('t...</td>\n",
       "    </tr>\n",
       "    <tr>\n",
       "      <th>2</th>\n",
       "      <td>['The', 'new', 'Premier', 'League', 'season', 'has', 'finally', 'arrived', ',', 'and', 'with', 'it', 'comes', 'the', 'hopes', 'and', 'expectations', 'of', 'many', '.', 'Manchester', 'City', 'are', 'hot', 'favourites', 'to', 'continue', 'their', 'dominance', 'under', 'Pep', 'Guardiola', ',', 'while', 'newcomers', 'Wolves', 'and', 'Fulham', 'have', 'set', 'down', 'early', 'markers', 'with', 'their', 'aggressive', 'approach', 'to', 'the', 'transfer', 'market', '.', 'Sportsmail', \"'s\", 'resident', 'expert', 'PETER', 'CROUCH', 'gives', 'his', 'team-by-team', 'guide', 'for', 'the', 'campaign', 'ahead', '.', 'How', 'strange', 'will', 'it', 'be', 'in', 'their', 'first', 'match', 'against', 'Manchester', 'City', 'when', 'the', 'camera', 'switches', 'to', 'the', 'dugout', 'and', 'Arsene', 'Wenger', 'is', 'not', 'there', '?', 'Wenger', 'is', 'all', 'some', 'people', 'know', 'of', 'Arsenal', 'and', 'it', 'is', 'going', 'to', 'take', 'everyone', 'time', 'to', 'adjust', '.', 'I', 'do', 'feel', '...</td>\n",
       "      <td>['The new Premier League season has finally arrived, and with it comes the hopes and expectations of many.', 'Manchester City are hot favourites to continue their dominance under Pep Guardiola, while newcomers Wolves and Fulham have set down early markers with their aggressive approach to the transfer market.', \"Sportsmail's resident expert PETER CROUCH gives his team-by-team guide for the campaign ahead.\", 'How strange will it be in their first match against Manchester City when the camera switches to the dugout and Arsene Wenger is not there?', 'Wenger is all some people know of Arsenal and it is going to take everyone time to adjust.', 'I do feel that change will be for the better, certainly in terms of the atmosphere at the Emirates.', 'It had become toxic with so many wanting Wenger to go and it affected the players.', 'During Stoke’s game in April it felt like the home crowd were desperate to turn on him.', 'It will be fascinating to see how Unai Emery gets on.', 'He has been...</td>\n",
       "      <td>['the', 'new', 'premier', 'league', 'season', 'finally', 'arrived', 'comes', 'hopes', 'expectations', 'many', 'manchester', 'city', 'hot', 'favourites', 'continue', 'dominance', 'pep', 'guardiola', 'newcomers', 'wolves', 'fulham', 'set', 'early', 'markers', 'aggressive', 'approach', 'transfer', 'market', 'sportsmail', 's', 'resident', 'expert', 'peter', 'crouch', 'gives', 'teambyteam', 'guide', 'campaign', 'ahead', 'how', 'strange', 'first', 'match', 'manchester', 'city', 'camera', 'switches', 'dugout', 'arsene', 'wenger', 'wenger', 'people', 'know', 'arsenal', 'going', 'take', 'everyone', 'time', 'adjust', 'i', 'feel', 'change', 'better', 'certainly', 'terms', 'atmosphere', 'emirates', 'it', 'become', 'toxic', 'many', 'wanting', 'wenger', 'go', 'affected', 'players', 'during', 'stoke', 'game', 'april', 'felt', 'like', 'home', 'crowd', 'desperate', 'turn', 'it', 'fascinating', 'see', 'unai', 'emery', 'gets', 'he', 'linked', 'jobs', 'pedigree', 'always', 'going', 'pick', 'top', 'opp...</td>\n",
       "      <td>[('the', 'DT'), ('new', 'JJ'), ('premier', 'NN'), ('league', 'NN'), ('season', 'NN'), ('finally', 'RB'), ('arrived', 'VBD'), ('comes', 'VBZ'), ('hopes', 'NNS'), ('expectations', 'NNS'), ('many', 'JJ'), ('manchester', 'JJ'), ('city', 'NN'), ('hot', 'JJ'), ('favourites', 'NNS'), ('continue', 'VBP'), ('dominance', 'NN'), ('pep', 'NN'), ('guardiola', 'NN'), ('newcomers', 'NNS'), ('wolves', 'VBZ'), ('fulham', 'JJ'), ('set', 'VBN'), ('early', 'JJ'), ('markers', 'NNS'), ('aggressive', 'JJ'), ('approach', 'NN'), ('transfer', 'NN'), ('market', 'NN'), ('sportsmail', 'NN'), ('s', 'NN'), ('resident', 'NN'), ('expert', 'NN'), ('peter', 'NN'), ('crouch', 'JJ'), ('gives', 'VBZ'), ('teambyteam', 'NN'), ('guide', 'NN'), ('campaign', 'NN'), ('ahead', 'RB'), ('how', 'WRB'), ('strange', 'JJ'), ('first', 'JJ'), ('match', 'NN'), ('manchester', 'NN'), ('city', 'NN'), ('camera', 'NN'), ('switches', 'VBZ'), ('dugout', 'IN'), ('arsene', 'NN'), ('wenger', 'NN'), ('wenger', 'NN'), ('people', 'NNS'), ('know', ...</td>\n",
       "      <td>0</td>\n",
       "      <td>-1.0</td>\n",
       "      <td>['new', 'premy', 'leagu', 'season', 'fin', 'ar', 'com', 'hop', 'expect', 'many', 'manchest', 'city', 'hot', 'favourit', 'continu', 'domin', 'pep', 'guardiol', 'newcom', 'wolv', 'fulham', 'set', 'ear', 'mark', 'aggress', 'approach', 'transf', 'market', 'sportsmail', 'resid', 'expert', 'pet', 'crouch', 'giv', 'teambyteam', 'guid', 'campaign', 'ahead', 'strange', 'first', 'match', 'manchest', 'city', 'camer', 'switch', 'dugout', 'ars', 'weng', 'weng', 'peopl', 'know', 'ars', 'going', 'tak', 'everyon', 'tim', 'adjust', 'feel', 'chang', 'bet', 'certain', 'term', 'atmosph', 'emir', 'becom', 'tox', 'many', 'want', 'weng', 'go', 'affect', 'play', 'stok', 'gam', 'april', 'felt', 'lik', 'hom', 'crowd', 'desp', 'turn', 'fascin', 'see', 'una', 'emery', 'get', 'link', 'job', 'pedigr', 'alway', 'going', 'pick', 'top', 'opportun', 'squad', 'inherit', 'good', 'mad', 'interest', 'buy', 'expect', 'see', 'push', 'titl', 'stil', 'good', 'way', 'short', 'team', 'set', 'standard', 'real', 'aim', 'try', ...</td>\n",
       "      <td>['new', 'premier', 'league', 'season', 'finally', 'arrive', 'come', 'hop', 'expectations', 'many', 'manchester', 'city', 'hot', 'favourites', 'continue', 'dominance', 'pep', 'guardiola', 'newcomers', 'wolves', 'fulham', 'set', 'early', 'markers', 'aggressive', 'approach', 'transfer', 'market', 'sportsmail', 'resident', 'expert', 'peter', 'crouch', 'give', 'teambyteam', 'guide', 'campaign', 'ahead', 'strange', 'first', 'match', 'manchester', 'city', 'camera', 'switch', 'dugout', 'arsene', 'wenger', 'wenger', 'people', 'know', 'arsenal', 'go', 'take', 'everyone', 'time', 'adjust', 'feel', 'change', 'better', 'certainly', 'term', 'atmosphere', 'emirates', 'become', 'toxic', 'many', 'want', 'wenger', 'go', 'affect', 'players', 'stoke', 'game', 'april', 'felt', 'like', 'home', 'crowd', 'desperate', 'turn', 'fascinate', 'see', 'unai', 'emery', 'get', 'link', 'job', 'pedigree', 'always', 'go', 'pick', 'top', 'opportunity', 'squad', 'inherit', 'good', 'make', 'interest', 'buy', 'expect', '...</td>\n",
       "      <td>The new Premier League season has finally arrived, and with it comes the hopes and expectations of many. Manchester City are hot favourites to continue their dominance under Pep Guardiola, while newcomers Wolves and Fulham have set down early markers with their aggressive approach to the transfer market. Sportsmail's resident expert PETER CROUCH gives his team-by-team guide for the campaign ahead.  How strange will it be in their first match against Manchester City when the camera switches to the dugout and Arsene Wenger is not there?  Wenger is all some people know of Arsenal and it is going to take everyone time to adjust. I do feel that change will be for the better, certainly in terms of the atmosphere at the Emirates. It had become toxic with so many wanting Wenger to go and it affected the players.  During Stoke’s game in April it felt like the home crowd were desperate to turn on him. It will be fascinating to see how Unai Emery gets on. He has been linked with jobs here bef...</td>\n",
       "      <td>&lt;FreqDist with 41 samples and 24241 outcomes&gt;</td>\n",
       "      <td>[('The', 'DT'), ('new', 'JJ'), ('Premier', 'NNP'), ('League', 'NNP'), ('season', 'NN'), ('has', 'VBZ'), ('finally', 'RB'), ('arrived', 'VBN'), (',', ','), ('and', 'CC'), ('with', 'IN'), ('it', 'PRP'), ('comes', 'VBZ'), ('the', 'DT'), ('hopes', 'NNS'), ('and', 'CC'), ('expectations', 'NNS'), ('of', 'IN'), ('many', 'JJ'), ('.', '.'), ('Manchester', 'NNP'), ('City', 'NNP'), ('are', 'VBP'), ('hot', 'JJ'), ('favourites', 'NNS'), ('to', 'TO'), ('continue', 'VB'), ('their', 'PRP$'), ('dominance', 'NN'), ('under', 'IN'), ('Pep', 'NNP'), ('Guardiola', 'NNP'), (',', ','), ('while', 'IN'), ('newcomers', 'NNS'), ('Wolves', 'NNS'), ('and', 'CC'), ('Fulham', 'NNP'), ('have', 'VBP'), ('set', 'VBN'), ('down', 'RP'), ('early', 'JJ'), ('markers', 'NNS'), ('with', 'IN'), ('their', 'PRP$'), ('aggressive', 'JJ'), ('approach', 'NN'), ('to', 'TO'), ('the', 'DT'), ('transfer', 'NN'), ('market', 'NN'), ('.', '.'), ('Sportsmail', 'NNP'), (\"'s\", 'POS'), ('resident', 'NN'), ('expert', 'NN'), ('PETER', 'NNP'),...</td>\n",
       "    </tr>\n",
       "    <tr>\n",
       "      <th>3</th>\n",
       "      <td>['Manchester', 'United', 'have', 'held', 'talks', 'with', 'Bayern', 'Munich', 'over', 'a', 'proposed', 'deal', 'for', 'Jerome', 'Boateng', '.', 'Sportsmail', 'reported', 'last', 'week', 'that', 'the', '29-year-old', 'had', 'been', 'offered', 'to', 'United', 'after', 'his', 'move', 'to', 'Paris', 'Saint-Germain', 'fell', 'through', '.', 'Bayern', 'are', 'prepared', 'to', 'accept', 'around', '£45million', 'for', 'former', 'Manchester', 'City', 'defender', 'Boateng', ',', 'who', 'turns', '30', 'next', 'month', ',', 'but', 'United', 'want', 'to', 'drive', 'the', 'price', 'lower', '.', 'A', 'new', 'centre-half', 'remains', 'the', 'priority', 'and', 'Mourinho', 'is', 'banking', 'on', 'United', 'chief', 'Ed', 'Woodward', 'delivering', 'one', '.', 'Boateng', '—', 'a', 'half-time', 'substitute', 'for', 'Bayern', 'on', 'Sunday', 'night', '—', 'has', 'emerged', 'as', 'a', 'serious', 'alternative', 'to', 'Harry', 'Maguire', 'who', 'is', 'being', 'priced', 'out', 'of', 'a', 'move', 'by', 'Leice...</td>\n",
       "      <td>['Manchester United have held talks with Bayern Munich over a proposed deal for Jerome Boateng.', 'Sportsmail reported last week that the 29-year-old had been offered to United after his move to Paris Saint-Germain fell through.', 'Bayern are prepared to accept around £45million for former Manchester City defender Boateng, who turns 30 next month, but United want to drive the price lower.', 'A new centre-half remains the priority and Mourinho is banking on United chief Ed Woodward delivering one.', 'Boateng — a half-time substitute for Bayern on Sunday night — has emerged as a serious alternative to Harry Maguire who is being priced out of a move by Leicester.', 'Talks are understood to have taken place between United and their German hosts on Sunday night over Boateng.', 'United would want to reduce that fee of £45m to nearer £40m.', 'Asked about Boateng, Mourinho emphasised the need for United chief Ed Woodward to make a new signing.', \"'The other clubs that compete with us are r...</td>\n",
       "      <td>['manchester', 'united', 'held', 'talks', 'bayern', 'munich', 'proposed', 'deal', 'jerome', 'boateng', 'sportsmail', 'reported', 'last', 'week', '29yearold', 'offered', 'united', 'move', 'paris', 'saintgermain', 'fell', 'bayern', 'prepared', 'accept', 'around', '45million', 'former', 'manchester', 'city', 'defender', 'boateng', 'turns', '30', 'next', 'month', 'united', 'want', 'drive', 'price', 'lower', 'a', 'new', 'centrehalf', 'remains', 'priority', 'mourinho', 'banking', 'united', 'chief', 'ed', 'woodward', 'delivering', 'one', 'boateng', 'halftime', 'substitute', 'bayern', 'sunday', 'night', 'emerged', 'serious', 'alternative', 'harry', 'maguire', 'priced', 'move', 'leicester', 'talks', 'understood', 'taken', 'place', 'united', 'german', 'hosts', 'sunday', 'night', 'boateng', 'united', 'would', 'want', 'reduce', 'fee', '45m', 'nearer', '40m', 'asked', 'boateng', 'mourinho', 'emphasised', 'need', 'united', 'chief', 'ed', 'woodward', 'make', 'new', 'signing', 'the', 'clubs', 'com...</td>\n",
       "      <td>[('manchester', 'NN'), ('united', 'VBD'), ('held', 'VBD'), ('talks', 'NNS'), ('bayern', 'JJ'), ('munich', 'NNS'), ('proposed', 'VBD'), ('deal', 'NN'), ('jerome', 'NN'), ('boateng', 'NN'), ('sportsmail', 'NN'), ('reported', 'VBN'), ('last', 'JJ'), ('week', 'NN'), ('29yearold', 'CD'), ('offered', 'VBN'), ('united', 'JJ'), ('move', 'NN'), ('paris', 'NN'), ('saintgermain', 'NN'), ('fell', 'VBD'), ('bayern', 'RB'), ('prepared', 'JJ'), ('accept', 'VBP'), ('around', 'RB'), ('45million', 'CD'), ('former', 'JJ'), ('manchester', 'NN'), ('city', 'NN'), ('defender', 'NN'), ('boateng', 'NN'), ('turns', 'VBZ'), ('30', 'CD'), ('next', 'JJ'), ('month', 'NN'), ('united', 'VBD'), ('want', 'JJ'), ('drive', 'NN'), ('price', 'NN'), ('lower', 'RBR'), ('a', 'DT'), ('new', 'JJ'), ('centrehalf', 'NN'), ('remains', 'VBZ'), ('priority', 'JJ'), ('mourinho', 'NN'), ('banking', 'NN'), ('united', 'JJ'), ('chief', 'NN'), ('ed', 'NN'), ('woodward', 'IN'), ('delivering', 'VBG'), ('one', 'CD'), ('boateng', 'NN'), ('...</td>\n",
       "      <td>-1</td>\n",
       "      <td>1.0</td>\n",
       "      <td>['manchest', 'unit', 'held', 'talk', 'bayern', 'munich', 'propos', 'deal', 'jerom', 'boateng', 'sportsmail', 'report', 'last', 'week', '29yearold', 'off', 'unit', 'mov', 'par', 'saintgermain', 'fel', 'bayern', 'prep', 'acceiv', 'around', '45million', 'form', 'manchest', 'city', 'defend', 'boateng', 'turn', '30', 'next', 'mon', 'unit', 'want', 'driv', 'pric', 'low', 'new', 'centrehalf', 'remain', 'pri', 'mourinho', 'bank', 'unit', 'chief', 'ed', 'woodward', 'del', 'on', 'boateng', 'halftim', 'substitut', 'bayern', 'sunday', 'night', 'emerg', 'sery', 'altern', 'harry', 'maguir', 'pric', 'mov', 'leicest', 'talk', 'understood', 'tak', 'plac', 'unit', 'germ', 'host', 'sunday', 'night', 'boateng', 'unit', 'would', 'want', 'reduc', 'fee', '45m', 'near', '40m', 'ask', 'boateng', 'mourinho', 'emphas', 'nee', 'unit', 'chief', 'ed', 'woodward', 'mak', 'new', 'sign', 'club', 'compet', 'us', 'real', 'strong', 'already', 'fantast', 'squad', 'lik', 'chelse', 'spur', 'city', 'invest', 'mass', 'lik...</td>\n",
       "      <td>['manchester', 'unite', 'hold', 'talk', 'bayern', 'munich', 'propose', 'deal', 'jerome', 'boateng', 'sportsmail', 'report', 'last', 'week', '29yearold', 'offer', 'unite', 'move', 'paris', 'saintgermain', 'fell', 'bayern', 'prepare', 'accept', 'around', '45million', 'former', 'manchester', 'city', 'defender', 'boateng', 'turn', '30', 'next', 'month', 'unite', 'want', 'drive', 'price', 'lower', 'new', 'centrehalf', 'remain', 'priority', 'mourinho', 'bank', 'unite', 'chief', 'ed', 'woodward', 'deliver', 'one', 'boateng', 'halftime', 'substitute', 'bayern', 'sunday', 'night', 'emerge', 'serious', 'alternative', 'harry', 'maguire', 'price', 'move', 'leicester', 'talk', 'understand', 'take', 'place', 'unite', 'german', 'host', 'sunday', 'night', 'boateng', 'unite', 'would', 'want', 'reduce', 'fee', '45m', 'nearer', '40m', 'ask', 'boateng', 'mourinho', 'emphasise', 'need', 'unite', 'chief', 'ed', 'woodward', 'make', 'new', 'sign', 'club', 'compete', 'us', 'really', 'strong', 'already', 'f...</td>\n",
       "      <td>Manchester United have held talks with Bayern Munich over a proposed deal for Jerome Boateng. Sportsmail reported last week that the 29-year-old had been offered to United after his move to Paris Saint-Germain fell through. Bayern are prepared to accept around £45million for former Manchester City defender Boateng, who turns 30 next month, but United want to drive the price lower. A new centre-half remains the priority and Mourinho is banking on United chief Ed Woodward delivering one. Boateng — a half-time substitute for Bayern on Sunday night — has emerged as a serious alternative to Harry Maguire who is being priced out of a move by Leicester. Talks are understood to have taken place between United and their German hosts on Sunday night over Boateng. United would want to reduce that fee of £45m to nearer £40m. Asked about Boateng, Mourinho emphasised the need for United chief Ed Woodward to make a new signing. 'The other clubs that compete with us are really strong or they have ...</td>\n",
       "      <td>&lt;FreqDist with 37 samples and 1595 outcomes&gt;</td>\n",
       "      <td>[('Manchester', 'RB'), ('United', 'NNP'), ('have', 'VBP'), ('held', 'VBN'), ('talks', 'NNS'), ('with', 'IN'), ('Bayern', 'NNP'), ('Munich', 'NNP'), ('over', 'IN'), ('a', 'DT'), ('proposed', 'VBN'), ('deal', 'NN'), ('for', 'IN'), ('Jerome', 'NNP'), ('Boateng', 'NNP'), ('.', '.'), ('Sportsmail', 'NNP'), ('reported', 'VBD'), ('last', 'JJ'), ('week', 'NN'), ('that', 'IN'), ('the', 'DT'), ('29-year-old', 'JJ'), ('had', 'VBD'), ('been', 'VBN'), ('offered', 'VBN'), ('to', 'TO'), ('United', 'NNP'), ('after', 'IN'), ('his', 'PRP$'), ('move', 'NN'), ('to', 'TO'), ('Paris', 'NNP'), ('Saint-Germain', 'NNP'), ('fell', 'VBD'), ('through', 'IN'), ('.', '.'), ('Bayern', 'NNP'), ('are', 'VBP'), ('prepared', 'VBN'), ('to', 'TO'), ('accept', 'VB'), ('around', 'RP'), ('£45million', 'NN'), ('for', 'IN'), ('former', 'JJ'), ('Manchester', 'NNP'), ('City', 'NNP'), ('defender', 'NN'), ('Boateng', 'NNP'), (',', ','), ('who', 'WP'), ('turns', 'VBZ'), ('30', 'CD'), ('next', 'JJ'), ('month', 'NN'), (',', ','),...</td>\n",
       "    </tr>\n",
       "    <tr>\n",
       "      <th>4</th>\n",
       "      <td>['Everton', 'have', 'agreed', 'a', '£28.5million', 'fee', 'for', 'Barcelona', 'defender', 'Yerry', 'Mina', 'after', 'his', 'talks', 'withManchester', 'United', 'stalled', '.', 'Mina', 'had', 'been', 'heavily', 'linked', 'with', 'a', 'switch', 'to', 'United', ',', 'who', 'are', 'eager', 'to', 'bring', 'in', 'another', 'centre-back', '.', 'However', ',', 'the', 'Colombia', 'international', 'is', 'instead', 'edging', 'towards', 'joining', 'Everton', ',', 'where', 'he', 'would', 'become', 'the', 'fourth', 'arrival', 'at', 'Goodison', 'Park', 'in', 'this', 'transfer', 'window', 'following', 'the', 'signings', 'of', 'Richarlison', ',', 'Joao', 'Virginia', 'and', 'Mina', \"'s\", 'former', 'Barcelona', 'team-mate', 'Lucas', 'Digne', '.', 'Mina', 'only', 'joined', 'Barcelona', 'in', 'January', ',', 'but', 'was', 'restricted', 'to', 'just', 'six', 'appearances', 'to', 'the', 'club', ',', 'although', 'he', 'did', 'win', 'the', 'La', 'Liga', 'title', 'and', 'the', 'Copa', 'del', 'Rey', '.', 'The...</td>\n",
       "      <td>['Everton have agreed a £28.5million fee for Barcelona defender Yerry Mina after his talks withManchester United stalled.', 'Mina had been heavily linked with a switch to United, who are eager to bring in another centre-back.', \"However, the Colombia international is instead edging towards joining Everton, where he would become the fourth arrival at Goodison Park in this transfer window following the signings of Richarlison, Joao Virginia and Mina's former Barcelona team-mate Lucas Digne.\", 'Mina only joined Barcelona in\\xa0January, but was restricted to just six appearances to the club, although he did win the La Liga title and the Copa del Rey.', \"The 23-year-old impressed for Colombia at the World Cup and could be a hugely important player for Marco Silva's side this campaign.\", 'Everton get their Premier League season underway on Saturday when they travel to face newly-promoted Wolverhampton Wanderers.', 'Following that the Toffees, who finished eighth last season, will host So...</td>\n",
       "      <td>['everton', 'agreed', '285million', 'fee', 'barcelona', 'defender', 'yerry', 'mina', 'talks', 'withmanchester', 'united', 'stalled', 'mina', 'heavily', 'linked', 'switch', 'united', 'eager', 'bring', 'another', 'centreback', 'however', 'colombia', 'international', 'instead', 'edging', 'towards', 'joining', 'everton', 'would', 'become', 'fourth', 'arrival', 'goodison', 'park', 'transfer', 'window', 'following', 'signings', 'richarlison', 'joao', 'virginia', 'mina', 's', 'former', 'barcelona', 'teammate', 'lucas', 'digne', 'mina', 'joined', 'barcelona', 'january', 'restricted', 'six', 'appearances', 'club', 'although', 'win', 'la', 'liga', 'title', 'copa', 'del', 'rey', 'the', '23yearold', 'impressed', 'colombia', 'world', 'cup', 'could', 'hugely', 'important', 'player', 'marco', 'silva', 's', 'side', 'campaign', 'everton', 'get', 'premier', 'league', 'season', 'underway', 'saturday', 'travel', 'face', 'newlypromoted', 'wolverhampton', 'wanderers', 'following', 'toffees', 'finished',...</td>\n",
       "      <td>[('everton', 'NNS'), ('agreed', 'VBD'), ('285million', 'CD'), ('fee', 'NN'), ('barcelona', 'NN'), ('defender', 'NN'), ('yerry', 'NNP'), ('mina', 'VBD'), ('talks', 'NNS'), ('withmanchester', 'RBR'), ('united', 'JJ'), ('stalled', 'VBD'), ('mina', 'JJ'), ('heavily', 'RB'), ('linked', 'VBN'), ('switch', 'NN'), ('united', 'JJ'), ('eager', 'NN'), ('bring', 'NN'), ('another', 'DT'), ('centreback', 'NN'), ('however', 'RB'), ('colombia', 'JJ'), ('international', 'JJ'), ('instead', 'RB'), ('edging', 'VBG'), ('towards', 'NNS'), ('joining', 'VBG'), ('everton', 'NN'), ('would', 'MD'), ('become', 'VB'), ('fourth', 'JJ'), ('arrival', 'JJ'), ('goodison', 'NN'), ('park', 'NN'), ('transfer', 'NN'), ('window', 'NN'), ('following', 'VBG'), ('signings', 'NNS'), ('richarlison', 'JJ'), ('joao', 'NN'), ('virginia', 'NN'), ('mina', 'NNP'), ('s', 'VBD'), ('former', 'JJ'), ('barcelona', 'NN'), ('teammate', 'NN'), ('lucas', 'NN'), ('digne', 'NN'), ('mina', 'NN'), ('joined', 'VBD'), ('barcelona', 'JJ'), ('janu...</td>\n",
       "      <td>1</td>\n",
       "      <td>1.0</td>\n",
       "      <td>['everton', 'agree', '285million', 'fee', 'barcelon', 'defend', 'yerry', 'min', 'talk', 'withmanchest', 'unit', 'stal', 'min', 'heavy', 'link', 'switch', 'unit', 'eag', 'bring', 'anoth', 'centreback', 'howev', 'colomb', 'intern', 'instead', 'edg', 'toward', 'join', 'everton', 'would', 'becom', 'four', 'ar', 'goodison', 'park', 'transf', 'window', 'follow', 'sign', 'richarlison', 'joao', 'virgin', 'min', 'form', 'barcelon', 'team', 'luca', 'dign', 'min', 'join', 'barcelon', 'janu', 'restrict', 'six', 'appear', 'club', 'although', 'win', 'la', 'lig', 'titl', 'cop', 'del', 'rey', '23yearold', 'impress', 'colomb', 'world', 'cup', 'could', 'hug', 'import', 'play', 'marco', 'silv', 'sid', 'campaign', 'everton', 'get', 'premy', 'leagu', 'season', 'underway', 'saturday', 'travel', 'fac', 'newlypromot', 'wolverhampton', 'wand', 'follow', 'toff', 'fin', 'eigh', 'last', 'season', 'host', 'southampton', 'richarlison', 'watford', '3528million', 'luca', 'dign', 'barcelon', '1818million', 'joao',...</td>\n",
       "      <td>['everton', 'agree', '285million', 'fee', 'barcelona', 'defender', 'yerry', 'mina', 'talk', 'withmanchester', 'unite', 'stall', 'mina', 'heavily', 'link', 'switch', 'unite', 'eager', 'bring', 'another', 'centreback', 'however', 'colombia', 'international', 'instead', 'edge', 'towards', 'join', 'everton', 'would', 'become', 'fourth', 'arrival', 'goodison', 'park', 'transfer', 'window', 'follow', 'sign', 'richarlison', 'joao', 'virginia', 'mina', 'former', 'barcelona', 'teammate', 'lucas', 'digne', 'mina', 'join', 'barcelona', 'january', 'restrict', 'six', 'appearances', 'club', 'although', 'win', 'la', 'liga', 'title', 'copa', 'del', 'rey', '23yearold', 'impress', 'colombia', 'world', 'cup', 'could', 'hugely', 'important', 'player', 'marco', 'silva', 'side', 'campaign', 'everton', 'get', 'premier', 'league', 'season', 'underway', 'saturday', 'travel', 'face', 'newlypromoted', 'wolverhampton', 'wanderers', 'follow', 'toffees', 'finish', 'eighth', 'last', 'season', 'host', 'southampto...</td>\n",
       "      <td>Everton have agreed a £28.5million fee for Barcelona defender Yerry Mina after his talks withManchester United stalled. Mina had been heavily linked with a switch to United, who are eager to bring in another centre-back. However, the Colombia international is instead edging towards joining Everton, where he would become the fourth arrival at Goodison Park in this transfer window following the signings of Richarlison, Joao Virginia and Mina's former Barcelona team-mate Lucas Digne. Mina only joined Barcelona in January, but was restricted to just six appearances to the club, although he did win the La Liga title and the Copa del Rey. The 23-year-old impressed for Colombia at the World Cup and could be a hugely important player for Marco Silva's side this campaign.  Everton get their Premier League season underway on Saturday when they travel to face newly-promoted Wolverhampton Wanderers.  Following that the Toffees, who finished eighth last season, will host Southampton.  Richarlis...</td>\n",
       "      <td>&lt;FreqDist with 34 samples and 1163 outcomes&gt;</td>\n",
       "      <td>[('Everton', 'NNP'), ('have', 'VBP'), ('agreed', 'VBN'), ('a', 'DT'), ('£28.5million', 'NN'), ('fee', 'NN'), ('for', 'IN'), ('Barcelona', 'NNP'), ('defender', 'NN'), ('Yerry', 'NNP'), ('Mina', 'NNP'), ('after', 'IN'), ('his', 'PRP$'), ('talks', 'NNS'), ('withManchester', 'RBR'), ('United', 'NNP'), ('stalled', 'VBD'), ('.', '.'), ('Mina', 'NNP'), ('had', 'VBD'), ('been', 'VBN'), ('heavily', 'RB'), ('linked', 'VBN'), ('with', 'IN'), ('a', 'DT'), ('switch', 'NN'), ('to', 'TO'), ('United', 'NNP'), (',', ','), ('who', 'WP'), ('are', 'VBP'), ('eager', 'JJ'), ('to', 'TO'), ('bring', 'VB'), ('in', 'IN'), ('another', 'DT'), ('centre-back', 'NN'), ('.', '.'), ('However', 'RB'), (',', ','), ('the', 'DT'), ('Colombia', 'NNP'), ('international', 'JJ'), ('is', 'VBZ'), ('instead', 'RB'), ('edging', 'VBG'), ('towards', 'NNS'), ('joining', 'VBG'), ('Everton', 'NNP'), (',', ','), ('where', 'WRB'), ('he', 'PRP'), ('would', 'MD'), ('become', 'VB'), ('the', 'DT'), ('fourth', 'JJ'), ('arrival', 'NN'), (...</td>\n",
       "    </tr>\n",
       "  </tbody>\n",
       "</table>\n",
       "</div>"
      ],
      "text/plain": [
       "                                                                                                                                                                                                                                                                                                                                                                                                                                                                                                                                                                                                                                                                                                                                                                                                                                                                                                                                                                                                                                    Tokens  \\\n",
       "0  ['No', 'wonder', 'Jose', 'Mourinho', 'is', 'worried', 'about', 'the', 'start', 'of', 'the', 'new', 'season', '.', 'Four', 'days', 'to', 'go', 'until', 'it', 'kicks', 'off', 'at', 'Old', 'Trafford', 'and', 'he', 'is', 'still', 'waiting', 'for', 'the', 'real', 'Manchester', 'United', 'to', 'turn', 'up', '.', 'This', 'has', 'been', 'a', 'strange', ',', 'disjointed', 'few', 'weeks', 'for', 'Mourinho', 'and', 'his', 'players', ',', 'and', 'it', 'showed', 'as', 'they', 'completed', 'their', 'pre-season', 'on', 'a', 'muggy', 'night', 'in', 'Munich', '.', 'On', 'this', 'evidence', ',', 'whatever', 'team', 'United', 'put', 'out', 'on', 'Friday', 'night', 'will', 'struggle', 'to', 'overcome', 'Leicester', 'never', 'mind', 'challenge', 'Manchester', 'City', \"'s\", 'dominance', 'of', 'the', 'Premier', 'League', '.', 'BAYERN', 'MUNICH', '(', '3-4-3', ')', ':', 'Neuer', ';', 'Kimmich', '(', 'Rudy', '72', ')', ',', 'Sule', ',', 'Hummels', '(', 'Boateng', '46', ')', ',', 'Alaba', '(', 'Bernat', '56...   \n",
       "1  ['Premier', 'League', 'clubs', 'are', 'facing', 'a', 'last', 'minute', 'panic', 'as', 'they', 'aim', 'to', 'complete', 'their', 'transfer', 'dealings', 'before', 'the', 'season', 'starts', 'on', 'Friday', '.', 'That', 'leaves', 'clubs', 'in', 'England', 'with', 'only', 'four', 'days', 'in', 'which', 'to', 'do', 'their', 'business', ',', 'and', 'there', 'is', 'plenty', 'left', 'to', 'be', 'resolved', '.', 'Sportsmail', 'brings', 'you', 'all', 'the', 'latest', 'news', 'and', 'done', 'deals', 'throughout', 'the', 'day', 'from', '8am', 'to', '8pm', ',', 'so', 'you', 'will', 'not', 'need', 'to', 'go', 'anywhere', 'else', '.', 'If', 'you', 'are', 'using', 'the', 'app', ',', 'please', 'click', 'here', 'to', 'view', 'today', '’', 's', 'live', 'blog', '.', 'Mina', 'had', 'been', 'heavily', 'linked', 'with', 'a', 'switch', 'to', 'United', ',', 'who', 'are', 'eager', 'to', 'bring', 'in', 'another', 'centre-back', '.', 'However', ',', 'the', 'Colombia', 'international', 'is', 'instead', 'edgin...   \n",
       "2  ['The', 'new', 'Premier', 'League', 'season', 'has', 'finally', 'arrived', ',', 'and', 'with', 'it', 'comes', 'the', 'hopes', 'and', 'expectations', 'of', 'many', '.', 'Manchester', 'City', 'are', 'hot', 'favourites', 'to', 'continue', 'their', 'dominance', 'under', 'Pep', 'Guardiola', ',', 'while', 'newcomers', 'Wolves', 'and', 'Fulham', 'have', 'set', 'down', 'early', 'markers', 'with', 'their', 'aggressive', 'approach', 'to', 'the', 'transfer', 'market', '.', 'Sportsmail', \"'s\", 'resident', 'expert', 'PETER', 'CROUCH', 'gives', 'his', 'team-by-team', 'guide', 'for', 'the', 'campaign', 'ahead', '.', 'How', 'strange', 'will', 'it', 'be', 'in', 'their', 'first', 'match', 'against', 'Manchester', 'City', 'when', 'the', 'camera', 'switches', 'to', 'the', 'dugout', 'and', 'Arsene', 'Wenger', 'is', 'not', 'there', '?', 'Wenger', 'is', 'all', 'some', 'people', 'know', 'of', 'Arsenal', 'and', 'it', 'is', 'going', 'to', 'take', 'everyone', 'time', 'to', 'adjust', '.', 'I', 'do', 'feel', '...   \n",
       "3  ['Manchester', 'United', 'have', 'held', 'talks', 'with', 'Bayern', 'Munich', 'over', 'a', 'proposed', 'deal', 'for', 'Jerome', 'Boateng', '.', 'Sportsmail', 'reported', 'last', 'week', 'that', 'the', '29-year-old', 'had', 'been', 'offered', 'to', 'United', 'after', 'his', 'move', 'to', 'Paris', 'Saint-Germain', 'fell', 'through', '.', 'Bayern', 'are', 'prepared', 'to', 'accept', 'around', '£45million', 'for', 'former', 'Manchester', 'City', 'defender', 'Boateng', ',', 'who', 'turns', '30', 'next', 'month', ',', 'but', 'United', 'want', 'to', 'drive', 'the', 'price', 'lower', '.', 'A', 'new', 'centre-half', 'remains', 'the', 'priority', 'and', 'Mourinho', 'is', 'banking', 'on', 'United', 'chief', 'Ed', 'Woodward', 'delivering', 'one', '.', 'Boateng', '—', 'a', 'half-time', 'substitute', 'for', 'Bayern', 'on', 'Sunday', 'night', '—', 'has', 'emerged', 'as', 'a', 'serious', 'alternative', 'to', 'Harry', 'Maguire', 'who', 'is', 'being', 'priced', 'out', 'of', 'a', 'move', 'by', 'Leice...   \n",
       "4  ['Everton', 'have', 'agreed', 'a', '£28.5million', 'fee', 'for', 'Barcelona', 'defender', 'Yerry', 'Mina', 'after', 'his', 'talks', 'withManchester', 'United', 'stalled', '.', 'Mina', 'had', 'been', 'heavily', 'linked', 'with', 'a', 'switch', 'to', 'United', ',', 'who', 'are', 'eager', 'to', 'bring', 'in', 'another', 'centre-back', '.', 'However', ',', 'the', 'Colombia', 'international', 'is', 'instead', 'edging', 'towards', 'joining', 'Everton', ',', 'where', 'he', 'would', 'become', 'the', 'fourth', 'arrival', 'at', 'Goodison', 'Park', 'in', 'this', 'transfer', 'window', 'following', 'the', 'signings', 'of', 'Richarlison', ',', 'Joao', 'Virginia', 'and', 'Mina', \"'s\", 'former', 'Barcelona', 'team-mate', 'Lucas', 'Digne', '.', 'Mina', 'only', 'joined', 'Barcelona', 'in', 'January', ',', 'but', 'was', 'restricted', 'to', 'just', 'six', 'appearances', 'to', 'the', 'club', ',', 'although', 'he', 'did', 'win', 'the', 'La', 'Liga', 'title', 'and', 'the', 'Copa', 'del', 'Rey', '.', 'The...   \n",
       "\n",
       "                                                                                                                                                                                                                                                                                                                                                                                                                                                                                                                                                                                                                                                                                                                                                                                                                                                                                                                                                                                                                         MsgSentenceTokens  \\\n",
       "0  ['No wonder Jose Mourinho is worried about the start of the new season.', 'Four days to go until it kicks off at Old Trafford and he is still waiting for the real Manchester United to turn up.', 'This has been a strange, disjointed few weeks for Mourinho and his players, and it showed as they completed their pre-season on a muggy night in Munich.', \"On this evidence, whatever team United put out on Friday night will struggle to overcome Leicester never mind challenge Manchester City's dominance of the Premier League.\", 'BAYERN MUNICH (3-4-3): Neuer; Kimmich (Rudy 72), Sule, Hummels (Boateng 46), Alaba (Bernat 56); Martinez; Robben, Muller, Thiago (Rafinha 60), Ribery; Gnabry.', 'Subs: Ulreich, Hoffmann, Lewandowski, Boateng, Goretzka, Coman, Mai, Zylla, Franzke.', 'Booked: Boateng Scorer: Martinez 59 MAN UTD (4-3-3): De Gea (Grant 78); Darmian (Jones 65), Bailly (Smalling 51), Lindelof (Tuanzebe 78), Shaw (Mitchell 78); Herrera (Garner 81), Pereira, Fred (Chong 78); Mata (McTominay...   \n",
       "1                                                                                                        ['Premier League clubs are facing a last minute panic as they aim to complete their transfer dealings before the season starts on Friday.', 'That leaves clubs in England with only four days in which to do their business, and there is plenty left to be resolved.', 'Sportsmail\\xa0brings you all the latest news and done deals throughout the day from 8am to 8pm, so you will not need to go anywhere else.', 'If you are using the app, please click here to view today’s live blog.', 'Mina had been heavily linked with a switch to United, who are eager to bring in another centre-back.', \"However, the Colombia international is instead edging towards joining Everton, where he would become the fourth arrival at Goodison Park in this transfer window following the signings of Richarlison, Joao Virginia and Mina's former Barcelona team-mate Lucas Digne.\", \"For more info, click on Simon's story here.\"]   \n",
       "2  ['The new Premier League season has finally arrived, and with it comes the hopes and expectations of many.', 'Manchester City are hot favourites to continue their dominance under Pep Guardiola, while newcomers Wolves and Fulham have set down early markers with their aggressive approach to the transfer market.', \"Sportsmail's resident expert PETER CROUCH gives his team-by-team guide for the campaign ahead.\", 'How strange will it be in their first match against Manchester City when the camera switches to the dugout and Arsene Wenger is not there?', 'Wenger is all some people know of Arsenal and it is going to take everyone time to adjust.', 'I do feel that change will be for the better, certainly in terms of the atmosphere at the Emirates.', 'It had become toxic with so many wanting Wenger to go and it affected the players.', 'During Stoke’s game in April it felt like the home crowd were desperate to turn on him.', 'It will be fascinating to see how Unai Emery gets on.', 'He has been...   \n",
       "3  ['Manchester United have held talks with Bayern Munich over a proposed deal for Jerome Boateng.', 'Sportsmail reported last week that the 29-year-old had been offered to United after his move to Paris Saint-Germain fell through.', 'Bayern are prepared to accept around £45million for former Manchester City defender Boateng, who turns 30 next month, but United want to drive the price lower.', 'A new centre-half remains the priority and Mourinho is banking on United chief Ed Woodward delivering one.', 'Boateng — a half-time substitute for Bayern on Sunday night — has emerged as a serious alternative to Harry Maguire who is being priced out of a move by Leicester.', 'Talks are understood to have taken place between United and their German hosts on Sunday night over Boateng.', 'United would want to reduce that fee of £45m to nearer £40m.', 'Asked about Boateng, Mourinho emphasised the need for United chief Ed Woodward to make a new signing.', \"'The other clubs that compete with us are r...   \n",
       "4  ['Everton have agreed a £28.5million fee for Barcelona defender Yerry Mina after his talks withManchester United stalled.', 'Mina had been heavily linked with a switch to United, who are eager to bring in another centre-back.', \"However, the Colombia international is instead edging towards joining Everton, where he would become the fourth arrival at Goodison Park in this transfer window following the signings of Richarlison, Joao Virginia and Mina's former Barcelona team-mate Lucas Digne.\", 'Mina only joined Barcelona in\\xa0January, but was restricted to just six appearances to the club, although he did win the La Liga title and the Copa del Rey.', \"The 23-year-old impressed for Colombia at the World Cup and could be a hugely important player for Marco Silva's side this campaign.\", 'Everton get their Premier League season underway on Saturday when they travel to face newly-promoted Wolverhampton Wanderers.', 'Following that the Toffees, who finished eighth last season, will host So...   \n",
       "\n",
       "                                                                                                                                                                                                                                                                                                                                                                                                                                                                                                                                                                                                                                                                                                                                                                                                                                                                                                                                                                                                                                NormTokens  \\\n",
       "0  ['no', 'wonder', 'jose', 'mourinho', 'worried', 'start', 'new', 'season', 'four', 'days', 'go', 'kicks', 'old', 'trafford', 'still', 'waiting', 'real', 'manchester', 'united', 'turn', 'this', 'strange', 'disjointed', 'weeks', 'mourinho', 'players', 'showed', 'completed', 'preseason', 'muggy', 'night', 'munich', 'on', 'evidence', 'whatever', 'team', 'united', 'put', 'friday', 'night', 'struggle', 'overcome', 'leicester', 'never', 'mind', 'challenge', 'manchester', 'city', 's', 'dominance', 'premier', 'league', 'bayern', 'munich', '343', 'neuer', 'kimmich', 'rudy', '72', 'sule', 'hummels', 'boateng', '46', 'alaba', 'bernat', '56', 'martinez', 'robben', 'muller', 'thiago', 'rafinha', '60', 'ribery', 'gnabry', 'subs', 'ulreich', 'hoffmann', 'lewandowski', 'boateng', 'goretzka', 'coman', 'mai', 'zylla', 'franzke', 'booked', 'boateng', 'scorer', 'martinez', '59', 'man', 'utd', '433', 'de', 'gea', 'grant', '78', 'darmian', 'jones', '65', 'bailly', 'smalling', '51', 'lindelof', 'tuanzebe',...   \n",
       "1                                                                                                                          ['premier', 'league', 'clubs', 'facing', 'last', 'minute', 'panic', 'aim', 'complete', 'transfer', 'dealings', 'season', 'starts', 'friday', 'that', 'leaves', 'clubs', 'england', 'four', 'days', 'business', 'plenty', 'left', 'resolved', 'sportsmail', 'brings', 'latest', 'news', 'done', 'deals', 'throughout', 'day', '8am', '8pm', 'need', 'go', 'anywhere', 'else', 'if', 'using', 'app', 'please', 'click', 'view', 'today', 'live', 'blog', 'mina', 'heavily', 'linked', 'switch', 'united', 'eager', 'bring', 'another', 'centreback', 'however', 'colombia', 'international', 'instead', 'edging', 'towards', 'joining', 'everton', 'would', 'become', 'fourth', 'arrival', 'goodison', 'park', 'transfer', 'window', 'following', 'signings', 'richarlison', 'joao', 'virginia', 'mina', 's', 'former', 'barcelona', 'teammate', 'lucas', 'digne', 'for', 'info', 'click', 'simon', 's', 'story']   \n",
       "2  ['the', 'new', 'premier', 'league', 'season', 'finally', 'arrived', 'comes', 'hopes', 'expectations', 'many', 'manchester', 'city', 'hot', 'favourites', 'continue', 'dominance', 'pep', 'guardiola', 'newcomers', 'wolves', 'fulham', 'set', 'early', 'markers', 'aggressive', 'approach', 'transfer', 'market', 'sportsmail', 's', 'resident', 'expert', 'peter', 'crouch', 'gives', 'teambyteam', 'guide', 'campaign', 'ahead', 'how', 'strange', 'first', 'match', 'manchester', 'city', 'camera', 'switches', 'dugout', 'arsene', 'wenger', 'wenger', 'people', 'know', 'arsenal', 'going', 'take', 'everyone', 'time', 'adjust', 'i', 'feel', 'change', 'better', 'certainly', 'terms', 'atmosphere', 'emirates', 'it', 'become', 'toxic', 'many', 'wanting', 'wenger', 'go', 'affected', 'players', 'during', 'stoke', 'game', 'april', 'felt', 'like', 'home', 'crowd', 'desperate', 'turn', 'it', 'fascinating', 'see', 'unai', 'emery', 'gets', 'he', 'linked', 'jobs', 'pedigree', 'always', 'going', 'pick', 'top', 'opp...   \n",
       "3  ['manchester', 'united', 'held', 'talks', 'bayern', 'munich', 'proposed', 'deal', 'jerome', 'boateng', 'sportsmail', 'reported', 'last', 'week', '29yearold', 'offered', 'united', 'move', 'paris', 'saintgermain', 'fell', 'bayern', 'prepared', 'accept', 'around', '45million', 'former', 'manchester', 'city', 'defender', 'boateng', 'turns', '30', 'next', 'month', 'united', 'want', 'drive', 'price', 'lower', 'a', 'new', 'centrehalf', 'remains', 'priority', 'mourinho', 'banking', 'united', 'chief', 'ed', 'woodward', 'delivering', 'one', 'boateng', 'halftime', 'substitute', 'bayern', 'sunday', 'night', 'emerged', 'serious', 'alternative', 'harry', 'maguire', 'priced', 'move', 'leicester', 'talks', 'understood', 'taken', 'place', 'united', 'german', 'hosts', 'sunday', 'night', 'boateng', 'united', 'would', 'want', 'reduce', 'fee', '45m', 'nearer', '40m', 'asked', 'boateng', 'mourinho', 'emphasised', 'need', 'united', 'chief', 'ed', 'woodward', 'make', 'new', 'signing', 'the', 'clubs', 'com...   \n",
       "4  ['everton', 'agreed', '285million', 'fee', 'barcelona', 'defender', 'yerry', 'mina', 'talks', 'withmanchester', 'united', 'stalled', 'mina', 'heavily', 'linked', 'switch', 'united', 'eager', 'bring', 'another', 'centreback', 'however', 'colombia', 'international', 'instead', 'edging', 'towards', 'joining', 'everton', 'would', 'become', 'fourth', 'arrival', 'goodison', 'park', 'transfer', 'window', 'following', 'signings', 'richarlison', 'joao', 'virginia', 'mina', 's', 'former', 'barcelona', 'teammate', 'lucas', 'digne', 'mina', 'joined', 'barcelona', 'january', 'restricted', 'six', 'appearances', 'club', 'although', 'win', 'la', 'liga', 'title', 'copa', 'del', 'rey', 'the', '23yearold', 'impressed', 'colombia', 'world', 'cup', 'could', 'hugely', 'important', 'player', 'marco', 'silva', 's', 'side', 'campaign', 'everton', 'get', 'premier', 'league', 'season', 'underway', 'saturday', 'travel', 'face', 'newlypromoted', 'wolverhampton', 'wanderers', 'following', 'toffees', 'finished',...   \n",
       "\n",
       "                                                                                                                                                                                                                                                                                                                                                                                                                                                                                                                                                                                                                                                                                                                                                                                                                                                                                                                                                                                                                                   POS_Msg  \\\n",
       "0  [('no', 'DT'), ('wonder', 'NN'), ('jose', 'NN'), ('mourinho', 'NN'), ('worried', 'VBD'), ('start', 'JJ'), ('new', 'JJ'), ('season', 'NN'), ('four', 'CD'), ('days', 'NNS'), ('go', 'VBP'), ('kicks', 'NNS'), ('old', 'JJ'), ('trafford', 'NN'), ('still', 'RB'), ('waiting', 'VBG'), ('real', 'JJ'), ('manchester', 'NN'), ('united', 'VBD'), ('turn', 'NN'), ('this', 'DT'), ('strange', 'JJ'), ('disjointed', 'JJ'), ('weeks', 'NNS'), ('mourinho', 'NN'), ('players', 'NNS'), ('showed', 'VBD'), ('completed', 'VBN'), ('preseason', 'NN'), ('muggy', 'NN'), ('night', 'NN'), ('munich', 'NN'), ('on', 'IN'), ('evidence', 'NN'), ('whatever', 'NN'), ('team', 'NN'), ('united', 'VBD'), ('put', 'NN'), ('friday', 'NN'), ('night', 'NN'), ('struggle', 'NN'), ('overcome', 'VBP'), ('leicester', 'NN'), ('never', 'RB'), ('mind', 'VBP'), ('challenge', 'JJ'), ('manchester', 'NN'), ('city', 'NN'), ('s', 'NN'), ('dominance', 'NN'), ('premier', 'NN'), ('league', 'NN'), ('bayern', 'NN'), ('munich', '$'), ('343', 'CD'), ('...   \n",
       "1  [('premier', 'JJR'), ('league', 'NN'), ('clubs', 'NNS'), ('facing', 'VBG'), ('last', 'JJ'), ('minute', 'NN'), ('panic', 'JJ'), ('aim', 'NN'), ('complete', 'JJ'), ('transfer', 'NN'), ('dealings', 'NNS'), ('season', 'NN'), ('starts', 'VBZ'), ('friday', 'NN'), ('that', 'WDT'), ('leaves', 'VBZ'), ('clubs', 'NNS'), ('england', 'VBP'), ('four', 'CD'), ('days', 'NNS'), ('business', 'NN'), ('plenty', 'NN'), ('left', 'VBD'), ('resolved', 'VBN'), ('sportsmail', 'JJ'), ('brings', 'NNS'), ('latest', 'JJS'), ('news', 'NN'), ('done', 'VBN'), ('deals', 'NNS'), ('throughout', 'IN'), ('day', 'NN'), ('8am', 'CD'), ('8pm', 'CD'), ('need', 'NN'), ('go', 'VBP'), ('anywhere', 'RB'), ('else', 'RB'), ('if', 'IN'), ('using', 'VBG'), ('app', 'JJ'), ('please', 'NN'), ('click', 'NN'), ('view', 'NN'), ('today', 'NN'), ('live', 'VBP'), ('blog', 'NN'), ('mina', 'FW'), ('heavily', 'RB'), ('linked', 'VBN'), ('switch', 'NN'), ('united', 'JJ'), ('eager', 'NN'), ('bring', 'NN'), ('another', 'DT'), ('centreback', 'NN'...   \n",
       "2  [('the', 'DT'), ('new', 'JJ'), ('premier', 'NN'), ('league', 'NN'), ('season', 'NN'), ('finally', 'RB'), ('arrived', 'VBD'), ('comes', 'VBZ'), ('hopes', 'NNS'), ('expectations', 'NNS'), ('many', 'JJ'), ('manchester', 'JJ'), ('city', 'NN'), ('hot', 'JJ'), ('favourites', 'NNS'), ('continue', 'VBP'), ('dominance', 'NN'), ('pep', 'NN'), ('guardiola', 'NN'), ('newcomers', 'NNS'), ('wolves', 'VBZ'), ('fulham', 'JJ'), ('set', 'VBN'), ('early', 'JJ'), ('markers', 'NNS'), ('aggressive', 'JJ'), ('approach', 'NN'), ('transfer', 'NN'), ('market', 'NN'), ('sportsmail', 'NN'), ('s', 'NN'), ('resident', 'NN'), ('expert', 'NN'), ('peter', 'NN'), ('crouch', 'JJ'), ('gives', 'VBZ'), ('teambyteam', 'NN'), ('guide', 'NN'), ('campaign', 'NN'), ('ahead', 'RB'), ('how', 'WRB'), ('strange', 'JJ'), ('first', 'JJ'), ('match', 'NN'), ('manchester', 'NN'), ('city', 'NN'), ('camera', 'NN'), ('switches', 'VBZ'), ('dugout', 'IN'), ('arsene', 'NN'), ('wenger', 'NN'), ('wenger', 'NN'), ('people', 'NNS'), ('know', ...   \n",
       "3  [('manchester', 'NN'), ('united', 'VBD'), ('held', 'VBD'), ('talks', 'NNS'), ('bayern', 'JJ'), ('munich', 'NNS'), ('proposed', 'VBD'), ('deal', 'NN'), ('jerome', 'NN'), ('boateng', 'NN'), ('sportsmail', 'NN'), ('reported', 'VBN'), ('last', 'JJ'), ('week', 'NN'), ('29yearold', 'CD'), ('offered', 'VBN'), ('united', 'JJ'), ('move', 'NN'), ('paris', 'NN'), ('saintgermain', 'NN'), ('fell', 'VBD'), ('bayern', 'RB'), ('prepared', 'JJ'), ('accept', 'VBP'), ('around', 'RB'), ('45million', 'CD'), ('former', 'JJ'), ('manchester', 'NN'), ('city', 'NN'), ('defender', 'NN'), ('boateng', 'NN'), ('turns', 'VBZ'), ('30', 'CD'), ('next', 'JJ'), ('month', 'NN'), ('united', 'VBD'), ('want', 'JJ'), ('drive', 'NN'), ('price', 'NN'), ('lower', 'RBR'), ('a', 'DT'), ('new', 'JJ'), ('centrehalf', 'NN'), ('remains', 'VBZ'), ('priority', 'JJ'), ('mourinho', 'NN'), ('banking', 'NN'), ('united', 'JJ'), ('chief', 'NN'), ('ed', 'NN'), ('woodward', 'IN'), ('delivering', 'VBG'), ('one', 'CD'), ('boateng', 'NN'), ('...   \n",
       "4  [('everton', 'NNS'), ('agreed', 'VBD'), ('285million', 'CD'), ('fee', 'NN'), ('barcelona', 'NN'), ('defender', 'NN'), ('yerry', 'NNP'), ('mina', 'VBD'), ('talks', 'NNS'), ('withmanchester', 'RBR'), ('united', 'JJ'), ('stalled', 'VBD'), ('mina', 'JJ'), ('heavily', 'RB'), ('linked', 'VBN'), ('switch', 'NN'), ('united', 'JJ'), ('eager', 'NN'), ('bring', 'NN'), ('another', 'DT'), ('centreback', 'NN'), ('however', 'RB'), ('colombia', 'JJ'), ('international', 'JJ'), ('instead', 'RB'), ('edging', 'VBG'), ('towards', 'NNS'), ('joining', 'VBG'), ('everton', 'NN'), ('would', 'MD'), ('become', 'VB'), ('fourth', 'JJ'), ('arrival', 'JJ'), ('goodison', 'NN'), ('park', 'NN'), ('transfer', 'NN'), ('window', 'NN'), ('following', 'VBG'), ('signings', 'NNS'), ('richarlison', 'JJ'), ('joao', 'NN'), ('virginia', 'NN'), ('mina', 'NNP'), ('s', 'VBD'), ('former', 'JJ'), ('barcelona', 'NN'), ('teammate', 'NN'), ('lucas', 'NN'), ('digne', 'NN'), ('mina', 'NN'), ('joined', 'VBD'), ('barcelona', 'JJ'), ('janu...   \n",
       "\n",
       "   Sentiments  Sentiments2  \\\n",
       "0           1         -1.0   \n",
       "1          -1         -1.0   \n",
       "2           0         -1.0   \n",
       "3          -1          1.0   \n",
       "4           1          1.0   \n",
       "\n",
       "                                                                                                                                                                                                                                                                                                                                                                                                                                                                                                                                                                                                                                                                                                                                                                                                                                                                                                                                                                                                                                     stems  \\\n",
       "0  ['wond', 'jos', 'mourinho', 'worry', 'start', 'new', 'season', 'four', 'day', 'go', 'kick', 'old', 'trafford', 'stil', 'wait', 'real', 'manchest', 'unit', 'turn', 'strange', 'disjoint', 'week', 'mourinho', 'play', 'show', 'complet', 'preseason', 'muggy', 'night', 'munich', 'evid', 'whatev', 'team', 'unit', 'put', 'friday', 'night', 'struggle', 'overcom', 'leicest', 'nev', 'mind', 'challeng', 'manchest', 'city', 'domin', 'premy', 'leagu', 'bayern', 'munich', '343', 'neu', 'kimmich', 'rudy', '72', 'sul', 'hummel', 'boateng', '46', 'alab', 'bern', '56', 'martinez', 'rob', 'mul', 'thiago', 'rafinh', '60', 'ribery', 'gnabry', 'sub', 'ulreich', 'hoffman', 'lewandowsk', 'boateng', 'goretzk', 'com', 'mai', 'zyll', 'franzk', 'book', 'boateng', 'scor', 'martinez', '59', 'man', 'utd', '433', 'de', 'gea', 'grant', '78', 'darm', 'jon', '65', 'bail', 'smal', '51', 'lindelof', 'tuanzeb', '78', 'shaw', 'mitchel', '78', 'herrer', 'garn', '81', 'pereir', 'fred', 'chong', '78', 'mat', 'mctominay', '6...   \n",
       "1                                                                                                                                                                                                                                                              ['premy', 'leagu', 'club', 'fac', 'last', 'minut', 'pan', 'aim', 'complet', 'transf', 'deal', 'season', 'start', 'friday', 'leav', 'club', 'england', 'four', 'day', 'busy', 'plenty', 'left', 'resolv', 'sportsmail', 'bring', 'latest', 'new', 'don', 'deal', 'throughout', 'day', '8am', '8pm', 'nee', 'go', 'anywh', 'els', 'us', 'ap', 'pleas', 'click', 'view', 'today', 'liv', 'blog', 'min', 'heavy', 'link', 'switch', 'unit', 'eag', 'bring', 'anoth', 'centreback', 'howev', 'colomb', 'intern', 'instead', 'edg', 'toward', 'join', 'everton', 'would', 'becom', 'four', 'ar', 'goodison', 'park', 'transf', 'window', 'follow', 'sign', 'richarlison', 'joao', 'virgin', 'min', 'form', 'barcelon', 'team', 'luca', 'dign', 'info', 'click', 'simon', 'story']   \n",
       "2  ['new', 'premy', 'leagu', 'season', 'fin', 'ar', 'com', 'hop', 'expect', 'many', 'manchest', 'city', 'hot', 'favourit', 'continu', 'domin', 'pep', 'guardiol', 'newcom', 'wolv', 'fulham', 'set', 'ear', 'mark', 'aggress', 'approach', 'transf', 'market', 'sportsmail', 'resid', 'expert', 'pet', 'crouch', 'giv', 'teambyteam', 'guid', 'campaign', 'ahead', 'strange', 'first', 'match', 'manchest', 'city', 'camer', 'switch', 'dugout', 'ars', 'weng', 'weng', 'peopl', 'know', 'ars', 'going', 'tak', 'everyon', 'tim', 'adjust', 'feel', 'chang', 'bet', 'certain', 'term', 'atmosph', 'emir', 'becom', 'tox', 'many', 'want', 'weng', 'go', 'affect', 'play', 'stok', 'gam', 'april', 'felt', 'lik', 'hom', 'crowd', 'desp', 'turn', 'fascin', 'see', 'una', 'emery', 'get', 'link', 'job', 'pedigr', 'alway', 'going', 'pick', 'top', 'opportun', 'squad', 'inherit', 'good', 'mad', 'interest', 'buy', 'expect', 'see', 'push', 'titl', 'stil', 'good', 'way', 'short', 'team', 'set', 'standard', 'real', 'aim', 'try', ...   \n",
       "3  ['manchest', 'unit', 'held', 'talk', 'bayern', 'munich', 'propos', 'deal', 'jerom', 'boateng', 'sportsmail', 'report', 'last', 'week', '29yearold', 'off', 'unit', 'mov', 'par', 'saintgermain', 'fel', 'bayern', 'prep', 'acceiv', 'around', '45million', 'form', 'manchest', 'city', 'defend', 'boateng', 'turn', '30', 'next', 'mon', 'unit', 'want', 'driv', 'pric', 'low', 'new', 'centrehalf', 'remain', 'pri', 'mourinho', 'bank', 'unit', 'chief', 'ed', 'woodward', 'del', 'on', 'boateng', 'halftim', 'substitut', 'bayern', 'sunday', 'night', 'emerg', 'sery', 'altern', 'harry', 'maguir', 'pric', 'mov', 'leicest', 'talk', 'understood', 'tak', 'plac', 'unit', 'germ', 'host', 'sunday', 'night', 'boateng', 'unit', 'would', 'want', 'reduc', 'fee', '45m', 'near', '40m', 'ask', 'boateng', 'mourinho', 'emphas', 'nee', 'unit', 'chief', 'ed', 'woodward', 'mak', 'new', 'sign', 'club', 'compet', 'us', 'real', 'strong', 'already', 'fantast', 'squad', 'lik', 'chelse', 'spur', 'city', 'invest', 'mass', 'lik...   \n",
       "4  ['everton', 'agree', '285million', 'fee', 'barcelon', 'defend', 'yerry', 'min', 'talk', 'withmanchest', 'unit', 'stal', 'min', 'heavy', 'link', 'switch', 'unit', 'eag', 'bring', 'anoth', 'centreback', 'howev', 'colomb', 'intern', 'instead', 'edg', 'toward', 'join', 'everton', 'would', 'becom', 'four', 'ar', 'goodison', 'park', 'transf', 'window', 'follow', 'sign', 'richarlison', 'joao', 'virgin', 'min', 'form', 'barcelon', 'team', 'luca', 'dign', 'min', 'join', 'barcelon', 'janu', 'restrict', 'six', 'appear', 'club', 'although', 'win', 'la', 'lig', 'titl', 'cop', 'del', 'rey', '23yearold', 'impress', 'colomb', 'world', 'cup', 'could', 'hug', 'import', 'play', 'marco', 'silv', 'sid', 'campaign', 'everton', 'get', 'premy', 'leagu', 'season', 'underway', 'saturday', 'travel', 'fac', 'newlypromot', 'wolverhampton', 'wand', 'follow', 'toff', 'fin', 'eigh', 'last', 'season', 'host', 'southampton', 'richarlison', 'watford', '3528million', 'luca', 'dign', 'barcelon', '1818million', 'joao',...   \n",
       "\n",
       "                                                                                                                                                                                                                                                                                                                                                                                                                                                                                                                                                                                                                                                                                                                                                                                                                                                                                                                                                                                                                                    lemmas  \\\n",
       "0  ['wonder', 'jose', 'mourinho', 'worry', 'start', 'new', 'season', 'four', 'days', 'go', 'kick', 'old', 'trafford', 'still', 'wait', 'real', 'manchester', 'unite', 'turn', 'strange', 'disjoint', 'weeks', 'mourinho', 'players', 'show', 'complete', 'preseason', 'muggy', 'night', 'munich', 'evidence', 'whatever', 'team', 'unite', 'put', 'friday', 'night', 'struggle', 'overcome', 'leicester', 'never', 'mind', 'challenge', 'manchester', 'city', 'dominance', 'premier', 'league', 'bayern', 'munich', '343', 'neuer', 'kimmich', 'rudy', '72', 'sule', 'hummels', 'boateng', '46', 'alaba', 'bernat', '56', 'martinez', 'robben', 'muller', 'thiago', 'rafinha', '60', 'ribery', 'gnabry', 'sub', 'ulreich', 'hoffmann', 'lewandowski', 'boateng', 'goretzka', 'coman', 'mai', 'zylla', 'franzke', 'book', 'boateng', 'scorer', 'martinez', '59', 'man', 'utd', '433', 'de', 'gea', 'grant', '78', 'darmian', 'jones', '65', 'bailly', 'smalling', '51', 'lindelof', 'tuanzebe', '78', 'shaw', 'mitchell', '78', 'herrera...   \n",
       "1                                                                                                                                                                                        ['premier', 'league', 'club', 'face', 'last', 'minute', 'panic', 'aim', 'complete', 'transfer', 'deal', 'season', 'start', 'friday', 'leave', 'club', 'england', 'four', 'days', 'business', 'plenty', 'leave', 'resolve', 'sportsmail', 'bring', 'latest', 'news', 'do', 'deal', 'throughout', 'day', '8am', '8pm', 'need', 'go', 'anywhere', 'else', 'use', 'app', 'please', 'click', 'view', 'today', 'live', 'blog', 'mina', 'heavily', 'link', 'switch', 'unite', 'eager', 'bring', 'another', 'centreback', 'however', 'colombia', 'international', 'instead', 'edge', 'towards', 'join', 'everton', 'would', 'become', 'fourth', 'arrival', 'goodison', 'park', 'transfer', 'window', 'follow', 'sign', 'richarlison', 'joao', 'virginia', 'mina', 'former', 'barcelona', 'teammate', 'lucas', 'digne', 'info', 'click', 'simon', 'story']   \n",
       "2  ['new', 'premier', 'league', 'season', 'finally', 'arrive', 'come', 'hop', 'expectations', 'many', 'manchester', 'city', 'hot', 'favourites', 'continue', 'dominance', 'pep', 'guardiola', 'newcomers', 'wolves', 'fulham', 'set', 'early', 'markers', 'aggressive', 'approach', 'transfer', 'market', 'sportsmail', 'resident', 'expert', 'peter', 'crouch', 'give', 'teambyteam', 'guide', 'campaign', 'ahead', 'strange', 'first', 'match', 'manchester', 'city', 'camera', 'switch', 'dugout', 'arsene', 'wenger', 'wenger', 'people', 'know', 'arsenal', 'go', 'take', 'everyone', 'time', 'adjust', 'feel', 'change', 'better', 'certainly', 'term', 'atmosphere', 'emirates', 'become', 'toxic', 'many', 'want', 'wenger', 'go', 'affect', 'players', 'stoke', 'game', 'april', 'felt', 'like', 'home', 'crowd', 'desperate', 'turn', 'fascinate', 'see', 'unai', 'emery', 'get', 'link', 'job', 'pedigree', 'always', 'go', 'pick', 'top', 'opportunity', 'squad', 'inherit', 'good', 'make', 'interest', 'buy', 'expect', '...   \n",
       "3  ['manchester', 'unite', 'hold', 'talk', 'bayern', 'munich', 'propose', 'deal', 'jerome', 'boateng', 'sportsmail', 'report', 'last', 'week', '29yearold', 'offer', 'unite', 'move', 'paris', 'saintgermain', 'fell', 'bayern', 'prepare', 'accept', 'around', '45million', 'former', 'manchester', 'city', 'defender', 'boateng', 'turn', '30', 'next', 'month', 'unite', 'want', 'drive', 'price', 'lower', 'new', 'centrehalf', 'remain', 'priority', 'mourinho', 'bank', 'unite', 'chief', 'ed', 'woodward', 'deliver', 'one', 'boateng', 'halftime', 'substitute', 'bayern', 'sunday', 'night', 'emerge', 'serious', 'alternative', 'harry', 'maguire', 'price', 'move', 'leicester', 'talk', 'understand', 'take', 'place', 'unite', 'german', 'host', 'sunday', 'night', 'boateng', 'unite', 'would', 'want', 'reduce', 'fee', '45m', 'nearer', '40m', 'ask', 'boateng', 'mourinho', 'emphasise', 'need', 'unite', 'chief', 'ed', 'woodward', 'make', 'new', 'sign', 'club', 'compete', 'us', 'really', 'strong', 'already', 'f...   \n",
       "4  ['everton', 'agree', '285million', 'fee', 'barcelona', 'defender', 'yerry', 'mina', 'talk', 'withmanchester', 'unite', 'stall', 'mina', 'heavily', 'link', 'switch', 'unite', 'eager', 'bring', 'another', 'centreback', 'however', 'colombia', 'international', 'instead', 'edge', 'towards', 'join', 'everton', 'would', 'become', 'fourth', 'arrival', 'goodison', 'park', 'transfer', 'window', 'follow', 'sign', 'richarlison', 'joao', 'virginia', 'mina', 'former', 'barcelona', 'teammate', 'lucas', 'digne', 'mina', 'join', 'barcelona', 'january', 'restrict', 'six', 'appearances', 'club', 'although', 'win', 'la', 'liga', 'title', 'copa', 'del', 'rey', '23yearold', 'impress', 'colombia', 'world', 'cup', 'could', 'hugely', 'important', 'player', 'marco', 'silva', 'side', 'campaign', 'everton', 'get', 'premier', 'league', 'season', 'underway', 'saturday', 'travel', 'face', 'newlypromoted', 'wolverhampton', 'wanderers', 'follow', 'toffees', 'finish', 'eighth', 'last', 'season', 'host', 'southampto...   \n",
       "\n",
       "                                                                                                                                                                                                                                                                                                                                                                                                                                                                                                                                                                                                                                                                                                                                                                                                                                                                                                                                                                                                                                  articles  \\\n",
       "0  No wonder Jose Mourinho is worried about the start of the new season. Four days to go until it kicks off at Old Trafford and he is still waiting for the real Manchester United to turn up. This has been a strange, disjointed few weeks for Mourinho and his players, and it showed as they completed their pre-season on a muggy night in Munich. On this evidence, whatever team United put out on Friday night will struggle to overcome Leicester never mind challenge Manchester City's dominance of the Premier League. BAYERN MUNICH (3-4-3): Neuer; Kimmich (Rudy 72), Sule, Hummels (Boateng 46), Alaba (Bernat 56); Martinez; Robben, Muller, Thiago (Rafinha 60), Ribery; Gnabry. Subs: Ulreich, Hoffmann, Lewandowski, Boateng, Goretzka, Coman, Mai, Zylla, Franzke. Booked: Boateng Scorer: Martinez 59 MAN UTD (4-3-3): De Gea (Grant 78); Darmian (Jones 65), Bailly (Smalling 51), Lindelof (Tuanzebe 78), Shaw (Mitchell 78); Herrera (Garner 81), Pereira, Fred (Chong 78); Mata (McTominay 65), Rashford (Fosu...   \n",
       "1                                                                                                                               Premier League clubs are facing a last minute panic as they aim to complete their transfer dealings before the season starts on Friday.  That leaves clubs in England with only four days in which to do their business, and there is plenty left to be resolved. Sportsmail brings you all the latest news and done deals throughout the day from 8am to 8pm, so you will not need to go anywhere else. If you are using the app, please click here to view today’s live blog.  Mina had been heavily linked with a switch to United, who are eager to bring in another centre-back. However, the Colombia international is instead edging towards joining Everton, where he would become the fourth arrival at Goodison Park in this transfer window following the signings of Richarlison, Joao Virginia and Mina's former Barcelona team-mate Lucas Digne. For more info, click on Simon's story here.   \n",
       "2  The new Premier League season has finally arrived, and with it comes the hopes and expectations of many. Manchester City are hot favourites to continue their dominance under Pep Guardiola, while newcomers Wolves and Fulham have set down early markers with their aggressive approach to the transfer market. Sportsmail's resident expert PETER CROUCH gives his team-by-team guide for the campaign ahead.  How strange will it be in their first match against Manchester City when the camera switches to the dugout and Arsene Wenger is not there?  Wenger is all some people know of Arsenal and it is going to take everyone time to adjust. I do feel that change will be for the better, certainly in terms of the atmosphere at the Emirates. It had become toxic with so many wanting Wenger to go and it affected the players.  During Stoke’s game in April it felt like the home crowd were desperate to turn on him. It will be fascinating to see how Unai Emery gets on. He has been linked with jobs here bef...   \n",
       "3  Manchester United have held talks with Bayern Munich over a proposed deal for Jerome Boateng. Sportsmail reported last week that the 29-year-old had been offered to United after his move to Paris Saint-Germain fell through. Bayern are prepared to accept around £45million for former Manchester City defender Boateng, who turns 30 next month, but United want to drive the price lower. A new centre-half remains the priority and Mourinho is banking on United chief Ed Woodward delivering one. Boateng — a half-time substitute for Bayern on Sunday night — has emerged as a serious alternative to Harry Maguire who is being priced out of a move by Leicester. Talks are understood to have taken place between United and their German hosts on Sunday night over Boateng. United would want to reduce that fee of £45m to nearer £40m. Asked about Boateng, Mourinho emphasised the need for United chief Ed Woodward to make a new signing. 'The other clubs that compete with us are really strong or they have ...   \n",
       "4  Everton have agreed a £28.5million fee for Barcelona defender Yerry Mina after his talks withManchester United stalled. Mina had been heavily linked with a switch to United, who are eager to bring in another centre-back. However, the Colombia international is instead edging towards joining Everton, where he would become the fourth arrival at Goodison Park in this transfer window following the signings of Richarlison, Joao Virginia and Mina's former Barcelona team-mate Lucas Digne. Mina only joined Barcelona in January, but was restricted to just six appearances to the club, although he did win the La Liga title and the Copa del Rey. The 23-year-old impressed for Colombia at the World Cup and could be a hugely important player for Marco Silva's side this campaign.  Everton get their Premier League season underway on Saturday when they travel to face newly-promoted Wolverhampton Wanderers.  Following that the Toffees, who finished eighth last season, will host Southampton.  Richarlis...   \n",
       "\n",
       "                                           TFIDF  \\\n",
       "0   <FreqDist with 41 samples and 3972 outcomes>   \n",
       "1    <FreqDist with 29 samples and 848 outcomes>   \n",
       "2  <FreqDist with 41 samples and 24241 outcomes>   \n",
       "3   <FreqDist with 37 samples and 1595 outcomes>   \n",
       "4   <FreqDist with 34 samples and 1163 outcomes>   \n",
       "\n",
       "                                                                                                                                                                                                                                                                                                                                                                                                                                                                                                                                                                                                                                                                                                                                                                                                                                                                                                                                                                                                                                  POS_Msg2  \n",
       "0  [('No', 'DT'), ('wonder', 'NN'), ('Jose', 'NNP'), ('Mourinho', 'NNP'), ('is', 'VBZ'), ('worried', 'VBN'), ('about', 'IN'), ('the', 'DT'), ('start', 'NN'), ('of', 'IN'), ('the', 'DT'), ('new', 'JJ'), ('season', 'NN'), ('.', '.'), ('Four', 'CD'), ('days', 'NNS'), ('to', 'TO'), ('go', 'VB'), ('until', 'IN'), ('it', 'PRP'), ('kicks', 'VBZ'), ('off', 'RP'), ('at', 'IN'), ('Old', 'NNP'), ('Trafford', 'NNP'), ('and', 'CC'), ('he', 'PRP'), ('is', 'VBZ'), ('still', 'RB'), ('waiting', 'VBG'), ('for', 'IN'), ('the', 'DT'), ('real', 'JJ'), ('Manchester', 'NNP'), ('United', 'NNP'), ('to', 'TO'), ('turn', 'VB'), ('up', 'RP'), ('.', '.'), ('This', 'DT'), ('has', 'VBZ'), ('been', 'VBN'), ('a', 'DT'), ('strange', 'JJ'), (',', ','), ('disjointed', 'VBD'), ('few', 'JJ'), ('weeks', 'NNS'), ('for', 'IN'), ('Mourinho', 'NNP'), ('and', 'CC'), ('his', 'PRP$'), ('players', 'NNS'), (',', ','), ('and', 'CC'), ('it', 'PRP'), ('showed', 'VBD'), ('as', 'IN'), ('they', 'PRP'), ('completed', 'VBD'), ('their', 'PR...  \n",
       "1  [('Premier', 'NNP'), ('League', 'NNP'), ('clubs', 'NNS'), ('are', 'VBP'), ('facing', 'VBG'), ('a', 'DT'), ('last', 'JJ'), ('minute', 'NN'), ('panic', 'NN'), ('as', 'IN'), ('they', 'PRP'), ('aim', 'VBP'), ('to', 'TO'), ('complete', 'VB'), ('their', 'PRP$'), ('transfer', 'NN'), ('dealings', 'NNS'), ('before', 'IN'), ('the', 'DT'), ('season', 'NN'), ('starts', 'VBZ'), ('on', 'IN'), ('Friday', 'NNP'), ('.', '.'), ('That', 'DT'), ('leaves', 'VBZ'), ('clubs', 'NNS'), ('in', 'IN'), ('England', 'NNP'), ('with', 'IN'), ('only', 'RB'), ('four', 'CD'), ('days', 'NNS'), ('in', 'IN'), ('which', 'WDT'), ('to', 'TO'), ('do', 'VB'), ('their', 'PRP$'), ('business', 'NN'), (',', ','), ('and', 'CC'), ('there', 'EX'), ('is', 'VBZ'), ('plenty', 'JJ'), ('left', 'VBN'), ('to', 'TO'), ('be', 'VB'), ('resolved', 'VBN'), ('.', '.'), ('Sportsmail', 'NNP'), ('brings', 'VBZ'), ('you', 'PRP'), ('all', 'PDT'), ('the', 'DT'), ('latest', 'JJS'), ('news', 'NN'), ('and', 'CC'), ('done', 'VBN'), ('deals', 'NNS'), ('t...  \n",
       "2  [('The', 'DT'), ('new', 'JJ'), ('Premier', 'NNP'), ('League', 'NNP'), ('season', 'NN'), ('has', 'VBZ'), ('finally', 'RB'), ('arrived', 'VBN'), (',', ','), ('and', 'CC'), ('with', 'IN'), ('it', 'PRP'), ('comes', 'VBZ'), ('the', 'DT'), ('hopes', 'NNS'), ('and', 'CC'), ('expectations', 'NNS'), ('of', 'IN'), ('many', 'JJ'), ('.', '.'), ('Manchester', 'NNP'), ('City', 'NNP'), ('are', 'VBP'), ('hot', 'JJ'), ('favourites', 'NNS'), ('to', 'TO'), ('continue', 'VB'), ('their', 'PRP$'), ('dominance', 'NN'), ('under', 'IN'), ('Pep', 'NNP'), ('Guardiola', 'NNP'), (',', ','), ('while', 'IN'), ('newcomers', 'NNS'), ('Wolves', 'NNS'), ('and', 'CC'), ('Fulham', 'NNP'), ('have', 'VBP'), ('set', 'VBN'), ('down', 'RP'), ('early', 'JJ'), ('markers', 'NNS'), ('with', 'IN'), ('their', 'PRP$'), ('aggressive', 'JJ'), ('approach', 'NN'), ('to', 'TO'), ('the', 'DT'), ('transfer', 'NN'), ('market', 'NN'), ('.', '.'), ('Sportsmail', 'NNP'), (\"'s\", 'POS'), ('resident', 'NN'), ('expert', 'NN'), ('PETER', 'NNP'),...  \n",
       "3  [('Manchester', 'RB'), ('United', 'NNP'), ('have', 'VBP'), ('held', 'VBN'), ('talks', 'NNS'), ('with', 'IN'), ('Bayern', 'NNP'), ('Munich', 'NNP'), ('over', 'IN'), ('a', 'DT'), ('proposed', 'VBN'), ('deal', 'NN'), ('for', 'IN'), ('Jerome', 'NNP'), ('Boateng', 'NNP'), ('.', '.'), ('Sportsmail', 'NNP'), ('reported', 'VBD'), ('last', 'JJ'), ('week', 'NN'), ('that', 'IN'), ('the', 'DT'), ('29-year-old', 'JJ'), ('had', 'VBD'), ('been', 'VBN'), ('offered', 'VBN'), ('to', 'TO'), ('United', 'NNP'), ('after', 'IN'), ('his', 'PRP$'), ('move', 'NN'), ('to', 'TO'), ('Paris', 'NNP'), ('Saint-Germain', 'NNP'), ('fell', 'VBD'), ('through', 'IN'), ('.', '.'), ('Bayern', 'NNP'), ('are', 'VBP'), ('prepared', 'VBN'), ('to', 'TO'), ('accept', 'VB'), ('around', 'RP'), ('£45million', 'NN'), ('for', 'IN'), ('former', 'JJ'), ('Manchester', 'NNP'), ('City', 'NNP'), ('defender', 'NN'), ('Boateng', 'NNP'), (',', ','), ('who', 'WP'), ('turns', 'VBZ'), ('30', 'CD'), ('next', 'JJ'), ('month', 'NN'), (',', ','),...  \n",
       "4  [('Everton', 'NNP'), ('have', 'VBP'), ('agreed', 'VBN'), ('a', 'DT'), ('£28.5million', 'NN'), ('fee', 'NN'), ('for', 'IN'), ('Barcelona', 'NNP'), ('defender', 'NN'), ('Yerry', 'NNP'), ('Mina', 'NNP'), ('after', 'IN'), ('his', 'PRP$'), ('talks', 'NNS'), ('withManchester', 'RBR'), ('United', 'NNP'), ('stalled', 'VBD'), ('.', '.'), ('Mina', 'NNP'), ('had', 'VBD'), ('been', 'VBN'), ('heavily', 'RB'), ('linked', 'VBN'), ('with', 'IN'), ('a', 'DT'), ('switch', 'NN'), ('to', 'TO'), ('United', 'NNP'), (',', ','), ('who', 'WP'), ('are', 'VBP'), ('eager', 'JJ'), ('to', 'TO'), ('bring', 'VB'), ('in', 'IN'), ('another', 'DT'), ('centre-back', 'NN'), ('.', '.'), ('However', 'RB'), (',', ','), ('the', 'DT'), ('Colombia', 'NNP'), ('international', 'JJ'), ('is', 'VBZ'), ('instead', 'RB'), ('edging', 'VBG'), ('towards', 'NNS'), ('joining', 'VBG'), ('Everton', 'NNP'), (',', ','), ('where', 'WRB'), ('he', 'PRP'), ('would', 'MD'), ('become', 'VB'), ('the', 'DT'), ('fourth', 'JJ'), ('arrival', 'NN'), (...  "
      ]
     },
     "execution_count": 3,
     "metadata": {},
     "output_type": "execute_result"
    }
   ],
   "source": [
    "TextData.head()"
   ]
  },
  {
   "cell_type": "code",
   "execution_count": 8,
   "metadata": {
    "collapsed": true
   },
   "outputs": [],
   "source": [
    "dataset={}\n",
    "for index,item in TextData.iterrows():\n",
    "    #print(str(index)+\" \"+item[\"Subject\"])\n",
    "    key=index\n",
    "    value=str(item[\"articles\"]).lower().replace('\\r',\"\")\n",
    "    dataset[key]=value"
   ]
  },
  {
   "cell_type": "code",
   "execution_count": 267,
   "metadata": {
    "collapsed": true
   },
   "outputs": [],
   "source": [
    "dataset1={}\n",
    "for index,item in TextData.iterrows():\n",
    "    #print(str(index)+\" \"+item[\"Subject\"])\n",
    "    key=index\n",
    "    value=str(''.join(item[\"NormTokens\"]).lower().replace('\\r',\"\"))\n",
    "    dataset1[key]=value"
   ]
  },
  {
   "cell_type": "code",
   "execution_count": null,
   "metadata": {
    "collapsed": true
   },
   "outputs": [],
   "source": []
  },
  {
   "cell_type": "code",
   "execution_count": 9,
   "metadata": {
    "collapsed": true
   },
   "outputs": [],
   "source": [
    "def tf(data,filename):\n",
    "    text=data[filename]\n",
    "    tokens=nltk.word_tokenize(text)\n",
    "    fd=nltk.FreqDist(tokens)\n",
    "    return fd\n",
    "\n",
    "def idf(data,term):\n",
    "    count=[term in data[mail_no] for mail_no in data]\n",
    "    inv_feq=math.log(len(count)/sum(count))\n",
    "    return inv_feq\n",
    "\n",
    "def tfidf(data,srno,n):\n",
    "    term_scores={}\n",
    "    file_fd=tf(data,srno)\n",
    "    for term in file_fd:\n",
    "        if term.isalpha():\n",
    "            idf_val=idf(data,term)\n",
    "            tf_val=tf(data,srno)[term]\n",
    "            tfidf_val=tf_val*idf_val\n",
    "            term_scores[term]=round(tfidf_val,2)\n",
    "    return sorted(term_scores.items(),key=lambda x:-x[1])[:n]"
   ]
  },
  {
   "cell_type": "code",
   "execution_count": 10,
   "metadata": {
    "collapsed": true
   },
   "outputs": [],
   "source": [
    "myli=[]\n",
    "for item in dataset:\n",
    "    myli.append(tfidf(dataset,item,25))"
   ]
  },
  {
   "cell_type": "code",
   "execution_count": 13,
   "metadata": {
    "collapsed": true
   },
   "outputs": [],
   "source": []
  },
  {
   "cell_type": "markdown",
   "metadata": {},
   "source": [
    "# Exp - for tokens fetched from csv"
   ]
  },
  {
   "cell_type": "code",
   "execution_count": 4,
   "metadata": {
    "collapsed": true
   },
   "outputs": [],
   "source": [
    "def tf2(data,filename):\n",
    "    fd=nltk.FreqDist(word for word in data[filename].replace('\\'','').replace(',',' ').split(' '))\n",
    "    return fd"
   ]
  },
  {
   "cell_type": "code",
   "execution_count": 5,
   "metadata": {
    "collapsed": true
   },
   "outputs": [],
   "source": [
    "def idf2(data,term):\n",
    "    count=[term in mail_no for mail_no in data]\n",
    "    inv_feq=math.log(len(count)/sum(count))\n",
    "    return inv_feq"
   ]
  },
  {
   "cell_type": "code",
   "execution_count": 6,
   "metadata": {
    "collapsed": true
   },
   "outputs": [],
   "source": [
    "def tfidf2(data,srno,n):\n",
    "    term_scores={}\n",
    "    file_fd=tf2(data,srno)\n",
    "    for term in file_fd:\n",
    "        if term.isalpha():\n",
    "            idf_val=idf2(data,term)\n",
    "            tf_val=tf2(data,srno)[term]\n",
    "            tfidf_val=tf_val*idf_val\n",
    "            term_scores[term]=round(tfidf_val,2)\n",
    "    return sorted(term_scores.items(),key=lambda x:-x[1])[:n]"
   ]
  },
  {
   "cell_type": "code",
   "execution_count": 7,
   "metadata": {
    "collapsed": true
   },
   "outputs": [],
   "source": [
    "mylist=[]\n",
    "for index,row in TextData.iterrows():\n",
    "    mylist.append(tfidf2(TextData[\"NormTokens\"].tolist(),index,25))"
   ]
  },
  {
   "cell_type": "code",
   "execution_count": null,
   "metadata": {
    "collapsed": true
   },
   "outputs": [],
   "source": [
    "df=pd.DataFrame({'TFIDF':mylist})"
   ]
  },
  {
   "cell_type": "code",
   "execution_count": null,
   "metadata": {
    "collapsed": true
   },
   "outputs": [],
   "source": [
    "frames = [TextData,df]"
   ]
  },
  {
   "cell_type": "code",
   "execution_count": null,
   "metadata": {
    "collapsed": true
   },
   "outputs": [],
   "source": [
    "TextData2=pd.concat(frames,axis=1,sort=False)"
   ]
  },
  {
   "cell_type": "code",
   "execution_count": null,
   "metadata": {
    "collapsed": true
   },
   "outputs": [],
   "source": []
  },
  {
   "cell_type": "code",
   "execution_count": 8,
   "metadata": {
    "collapsed": true
   },
   "outputs": [],
   "source": [
    "from sklearn.feature_extraction.text import TfidfVectorizer"
   ]
  },
  {
   "cell_type": "code",
   "execution_count": 10,
   "metadata": {
    "collapsed": true
   },
   "outputs": [],
   "source": [
    "vect = TfidfVectorizer(stop_words='english')"
   ]
  },
  {
   "cell_type": "code",
   "execution_count": 11,
   "metadata": {
    "collapsed": true
   },
   "outputs": [],
   "source": [
    "X = vect.fit_transform(TextData[\"NormTokens\"])"
   ]
  },
  {
   "cell_type": "code",
   "execution_count": 249,
   "metadata": {},
   "outputs": [
    {
     "data": {
      "text/plain": [
       "TfidfVectorizer(analyzer='word', binary=False, decode_error='strict',\n",
       "        dtype=<class 'numpy.int64'>, encoding='utf-8', input='content',\n",
       "        lowercase=True, max_df=1.0, max_features=None, min_df=1,\n",
       "        ngram_range=(1, 1), norm='l2', preprocessor=None, smooth_idf=True,\n",
       "        stop_words='english', strip_accents=None, sublinear_tf=False,\n",
       "        token_pattern='(?u)\\\\b\\\\w\\\\w+\\\\b', tokenizer=None, use_idf=True,\n",
       "        vocabulary=None)"
      ]
     },
     "execution_count": 249,
     "metadata": {},
     "output_type": "execute_result"
    }
   ],
   "source": [
    "vect"
   ]
  },
  {
   "cell_type": "code",
   "execution_count": 12,
   "metadata": {},
   "outputs": [
    {
     "data": {
      "text/plain": [
       "(87, 6810)"
      ]
     },
     "execution_count": 12,
     "metadata": {},
     "output_type": "execute_result"
    }
   ],
   "source": [
    "X.shape"
   ]
  },
  {
   "cell_type": "code",
   "execution_count": 16,
   "metadata": {
    "collapsed": true
   },
   "outputs": [],
   "source": [
    "from sklearn import linear_model\n",
    "from sklearn.decomposition import PCA"
   ]
  },
  {
   "cell_type": "code",
   "execution_count": 13,
   "metadata": {},
   "outputs": [
    {
     "name": "stdout",
     "output_type": "stream",
     "text": [
      "['zylla', 'mouse', 'muhamed', 'muggy', 'mud']\n"
     ]
    }
   ],
   "source": [
    "indices = np.argsort(vect.idf_)[::-1]\n",
    "features = vect.get_feature_names()\n",
    "\n",
    "top_n = 5\n",
    "top_features = [features[i] for i in indices[:top_n]]\n",
    "print (top_features)"
   ]
  },
  {
   "cell_type": "code",
   "execution_count": 14,
   "metadata": {},
   "outputs": [
    {
     "data": {
      "text/plain": [
       "array([6809, 4061, 4074, ..., 4152, 6188, 5357], dtype=int64)"
      ]
     },
     "execution_count": 14,
     "metadata": {},
     "output_type": "execute_result"
    }
   ],
   "source": [
    "indices"
   ]
  },
  {
   "cell_type": "code",
   "execution_count": 17,
   "metadata": {},
   "outputs": [
    {
     "data": {
      "image/png": "[encoded data removed]",
      "text/plain": [
       "<Figure size 432x288 with 1 Axes>"
      ]
     },
     "metadata": {},
     "output_type": "display_data"
    }
   ],
   "source": [
    "X_dense = X.todense()\n",
    "coords = PCA(n_components=2).fit_transform(X_dense)\n",
    "plt.scatter(coords[:, 0], coords[:, 1], c='m')\n",
    "plt.show()"
   ]
  },
  {
   "cell_type": "code",
   "execution_count": 18,
   "metadata": {
    "collapsed": true
   },
   "outputs": [],
   "source": [
    "jj=pd.read_json(\"Sample json.txt\")"
   ]
  },
  {
   "cell_type": "code",
   "execution_count": 19,
   "metadata": {
    "collapsed": true
   },
   "outputs": [],
   "source": [
    "for index,rows in jj.iterrows():\n",
    "    print(rows)"
   ]
  },
  {
   "cell_type": "code",
   "execution_count": null,
   "metadata": {
    "collapsed": true
   },
   "outputs": [],
   "source": [
    "import json"
   ]
  },
  {
   "cell_type": "code",
   "execution_count": null,
   "metadata": {
    "collapsed": true
   },
   "outputs": [],
   "source": []
  },
  {
   "cell_type": "code",
   "execution_count": null,
   "metadata": {
    "collapsed": true
   },
   "outputs": [],
   "source": []
  },
  {
   "cell_type": "code",
   "execution_count": null,
   "metadata": {
    "collapsed": true
   },
   "outputs": [],
   "source": []
  }
 ],
 "metadata": {
  "kernelspec": {
   "display_name": "Python 3",
   "language": "python",
   "name": "python3"
  },
  "language_info": {
   "codemirror_mode": {
    "name": "ipython",
    "version": 3
   },
   "file_extension": ".py",
   "mimetype": "text/x-python",
   "name": "python",
   "nbconvert_exporter": "python",
   "pygments_lexer": "ipython3",
   "version": "3.6.5"
  }
 },
 "nbformat": 4,
 "nbformat_minor": 2
}
